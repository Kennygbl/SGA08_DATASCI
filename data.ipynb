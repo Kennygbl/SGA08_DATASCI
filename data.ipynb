{
 "cells": [
  {
   "cell_type": "code",
   "execution_count": 1,
   "metadata": {},
   "outputs": [
    {
     "name": "stdout",
     "output_type": "stream",
     "text": [
      "     Name  Age Sex  Height  Weight  Shoe_Size Eye_Colour Hair_Colour\n",
      "0    Alex   10   M   138.4    32.0         37      Green       Black\n",
      "1    Bola   12   F   150.0    41.5         38      Brown       Brown\n",
      "2  Daniel   15   M   173.4    60.0         44       Grey       Blond\n",
      "3    Glen    9   M   133.3    28.6         35       Blue         Red\n",
      "4   Hilda   17   F   162.5    55.5         40       Blue       Brown\n",
      "5    Tope   15   F   159.7    52.3         39      Brown       Black\n"
     ]
    }
   ],
   "source": [
    "import pandas as pd\n",
    "data = {'Name':['Alex', 'Bola', 'Daniel', 'Glen', 'Hilda', 'Tope'],'Age':[10,12,15,9,17,15], 'Sex' :['M','F','M','M', 'F', 'F'], 'Height':[138.4,150.0,173.4,133.3,162.5,159.7], 'Weight':[32.0,41.5,60.0,28.6,55.5,52.3], 'Shoe_Size':[37,38,44,35,40,39], 'Eye_Colour':['Green', 'Brown', 'Grey', 'Blue', 'Blue', 'Brown'], 'Hair_Colour':['Black', 'Brown', 'Blond', 'Red', 'Brown', 'Black']}\n",
    "data = pd.DataFrame(data,columns=['Name','Age', 'Sex', 'Height', 'Weight', 'Shoe_Size', 'Eye_Colour', 'Hair_Colour'])\n",
    "print (data)\n"
   ]
  },
  {
   "cell_type": "code",
   "execution_count": 2,
   "metadata": {},
   "outputs": [],
   "source": [
    "data.to_csv(\"data.csv\")"
   ]
  },
  {
   "cell_type": "code",
   "execution_count": 3,
   "metadata": {},
   "outputs": [],
   "source": [
    "df = pd.read_csv(r\"C:\\Users\\User\\SGA08_DATASCI\\data.csv\", index_col=0)"
   ]
  },
  {
   "cell_type": "code",
   "execution_count": 4,
   "metadata": {},
   "outputs": [
    {
     "data": {
      "text/html": [
       "<div>\n",
       "<style scoped>\n",
       "    .dataframe tbody tr th:only-of-type {\n",
       "        vertical-align: middle;\n",
       "    }\n",
       "\n",
       "    .dataframe tbody tr th {\n",
       "        vertical-align: top;\n",
       "    }\n",
       "\n",
       "    .dataframe thead th {\n",
       "        text-align: right;\n",
       "    }\n",
       "</style>\n",
       "<table border=\"1\" class=\"dataframe\">\n",
       "  <thead>\n",
       "    <tr style=\"text-align: right;\">\n",
       "      <th></th>\n",
       "      <th>Name</th>\n",
       "      <th>Age</th>\n",
       "      <th>Sex</th>\n",
       "      <th>Height</th>\n",
       "      <th>Weight</th>\n",
       "      <th>Shoe_Size</th>\n",
       "      <th>Eye_Colour</th>\n",
       "      <th>Hair_Colour</th>\n",
       "    </tr>\n",
       "  </thead>\n",
       "  <tbody>\n",
       "    <tr>\n",
       "      <th>0</th>\n",
       "      <td>Alex</td>\n",
       "      <td>10</td>\n",
       "      <td>M</td>\n",
       "      <td>138.4</td>\n",
       "      <td>32.0</td>\n",
       "      <td>37</td>\n",
       "      <td>Green</td>\n",
       "      <td>Black</td>\n",
       "    </tr>\n",
       "    <tr>\n",
       "      <th>1</th>\n",
       "      <td>Bola</td>\n",
       "      <td>12</td>\n",
       "      <td>F</td>\n",
       "      <td>150.0</td>\n",
       "      <td>41.5</td>\n",
       "      <td>38</td>\n",
       "      <td>Brown</td>\n",
       "      <td>Brown</td>\n",
       "    </tr>\n",
       "    <tr>\n",
       "      <th>2</th>\n",
       "      <td>Daniel</td>\n",
       "      <td>15</td>\n",
       "      <td>M</td>\n",
       "      <td>173.4</td>\n",
       "      <td>60.0</td>\n",
       "      <td>44</td>\n",
       "      <td>Grey</td>\n",
       "      <td>Blond</td>\n",
       "    </tr>\n",
       "  </tbody>\n",
       "</table>\n",
       "</div>"
      ],
      "text/plain": [
       "     Name  Age Sex  Height  Weight  Shoe_Size Eye_Colour Hair_Colour\n",
       "0    Alex   10   M   138.4    32.0         37      Green       Black\n",
       "1    Bola   12   F   150.0    41.5         38      Brown       Brown\n",
       "2  Daniel   15   M   173.4    60.0         44       Grey       Blond"
      ]
     },
     "execution_count": 4,
     "metadata": {},
     "output_type": "execute_result"
    }
   ],
   "source": [
    "df.head(3)"
   ]
  }
 ],
 "metadata": {
  "kernelspec": {
   "display_name": "Python 3",
   "language": "python",
   "name": "python3"
  },
  "language_info": {
   "codemirror_mode": {
    "name": "ipython",
    "version": 3
   },
   "file_extension": ".py",
   "mimetype": "text/x-python",
   "name": "python",
   "nbconvert_exporter": "python",
   "pygments_lexer": "ipython3",
   "version": "3.7.6"
  }
 },
 "nbformat": 4,
 "nbformat_minor": 4
}
