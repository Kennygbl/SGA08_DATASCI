{
 "cells": [
  {
   "cell_type": "code",
   "execution_count": 1,
   "metadata": {},
   "outputs": [],
   "source": [
    "import pandas as pd\n",
    "import numpy as np\n",
    "import seaborn as sns\n",
    "import matplotlib.pyplot as plt"
   ]
  },
  {
   "cell_type": "code",
   "execution_count": 2,
   "metadata": {
    "scrolled": false
   },
   "outputs": [
    {
     "data": {
      "text/html": [
       "<div>\n",
       "<style scoped>\n",
       "    .dataframe tbody tr th:only-of-type {\n",
       "        vertical-align: middle;\n",
       "    }\n",
       "\n",
       "    .dataframe tbody tr th {\n",
       "        vertical-align: top;\n",
       "    }\n",
       "\n",
       "    .dataframe thead th {\n",
       "        text-align: right;\n",
       "    }\n",
       "</style>\n",
       "<table border=\"1\" class=\"dataframe\">\n",
       "  <thead>\n",
       "    <tr style=\"text-align: right;\">\n",
       "      <th></th>\n",
       "      <th>type</th>\n",
       "      <th>area</th>\n",
       "      <th>bed</th>\n",
       "      <th>bath</th>\n",
       "      <th>toilet</th>\n",
       "      <th>price</th>\n",
       "    </tr>\n",
       "  </thead>\n",
       "  <tbody>\n",
       "    <tr>\n",
       "      <th>0</th>\n",
       "      <td>flat / apartment</td>\n",
       "      <td>Maryland</td>\n",
       "      <td>2</td>\n",
       "      <td>2</td>\n",
       "      <td>2</td>\n",
       "      <td>1000000</td>\n",
       "    </tr>\n",
       "    <tr>\n",
       "      <th>1</th>\n",
       "      <td>detached duplex</td>\n",
       "      <td>Lekki</td>\n",
       "      <td>5</td>\n",
       "      <td>5</td>\n",
       "      <td>6</td>\n",
       "      <td>4000000</td>\n",
       "    </tr>\n",
       "    <tr>\n",
       "      <th>2</th>\n",
       "      <td>detached duplex</td>\n",
       "      <td>Lekki</td>\n",
       "      <td>4</td>\n",
       "      <td>4</td>\n",
       "      <td>5</td>\n",
       "      <td>3500000</td>\n",
       "    </tr>\n",
       "    <tr>\n",
       "      <th>3</th>\n",
       "      <td>terraced duplex</td>\n",
       "      <td>Ikeja</td>\n",
       "      <td>4</td>\n",
       "      <td>4</td>\n",
       "      <td>5</td>\n",
       "      <td>5500000</td>\n",
       "    </tr>\n",
       "    <tr>\n",
       "      <th>4</th>\n",
       "      <td>semi detached duplex</td>\n",
       "      <td>Lekki</td>\n",
       "      <td>4</td>\n",
       "      <td>4</td>\n",
       "      <td>5</td>\n",
       "      <td>4000000</td>\n",
       "    </tr>\n",
       "  </tbody>\n",
       "</table>\n",
       "</div>"
      ],
      "text/plain": [
       "                   type      area  bed  bath  toilet    price\n",
       "0      flat / apartment  Maryland    2     2       2  1000000\n",
       "1       detached duplex     Lekki    5     5       6  4000000\n",
       "2       detached duplex     Lekki    4     4       5  3500000\n",
       "3       terraced duplex     Ikeja    4     4       5  5500000\n",
       "4  semi detached duplex     Lekki    4     4       5  4000000"
      ]
     },
     "execution_count": 2,
     "metadata": {},
     "output_type": "execute_result"
    }
   ],
   "source": [
    "data = pd.read_csv(\"rent_right_data.csv\")\n",
    "data.head()"
   ]
  },
  {
   "cell_type": "code",
   "execution_count": 3,
   "metadata": {},
   "outputs": [
    {
     "name": "stdout",
     "output_type": "stream",
     "text": [
      "<class 'pandas.core.frame.DataFrame'>\n",
      "RangeIndex: 731 entries, 0 to 730\n",
      "Data columns (total 6 columns):\n",
      " #   Column  Non-Null Count  Dtype \n",
      "---  ------  --------------  ----- \n",
      " 0   type    731 non-null    object\n",
      " 1   area    731 non-null    object\n",
      " 2   bed     731 non-null    int64 \n",
      " 3   bath    731 non-null    int64 \n",
      " 4   toilet  731 non-null    int64 \n",
      " 5   price   731 non-null    int64 \n",
      "dtypes: int64(4), object(2)\n",
      "memory usage: 34.4+ KB\n"
     ]
    }
   ],
   "source": [
    "data.info()"
   ]
  },
  {
   "cell_type": "code",
   "execution_count": 4,
   "metadata": {},
   "outputs": [
    {
     "data": {
      "text/html": [
       "<div>\n",
       "<style scoped>\n",
       "    .dataframe tbody tr th:only-of-type {\n",
       "        vertical-align: middle;\n",
       "    }\n",
       "\n",
       "    .dataframe tbody tr th {\n",
       "        vertical-align: top;\n",
       "    }\n",
       "\n",
       "    .dataframe thead th {\n",
       "        text-align: right;\n",
       "    }\n",
       "</style>\n",
       "<table border=\"1\" class=\"dataframe\">\n",
       "  <thead>\n",
       "    <tr style=\"text-align: right;\">\n",
       "      <th></th>\n",
       "      <th>bed</th>\n",
       "      <th>bath</th>\n",
       "      <th>toilet</th>\n",
       "      <th>price</th>\n",
       "    </tr>\n",
       "  </thead>\n",
       "  <tbody>\n",
       "    <tr>\n",
       "      <th>count</th>\n",
       "      <td>731.000000</td>\n",
       "      <td>731.000000</td>\n",
       "      <td>731.000000</td>\n",
       "      <td>7.310000e+02</td>\n",
       "    </tr>\n",
       "    <tr>\n",
       "      <th>mean</th>\n",
       "      <td>3.233926</td>\n",
       "      <td>3.272230</td>\n",
       "      <td>4.030096</td>\n",
       "      <td>8.701933e+06</td>\n",
       "    </tr>\n",
       "    <tr>\n",
       "      <th>std</th>\n",
       "      <td>1.016978</td>\n",
       "      <td>1.047388</td>\n",
       "      <td>1.197794</td>\n",
       "      <td>1.510336e+07</td>\n",
       "    </tr>\n",
       "    <tr>\n",
       "      <th>min</th>\n",
       "      <td>1.000000</td>\n",
       "      <td>1.000000</td>\n",
       "      <td>1.000000</td>\n",
       "      <td>2.500000e+04</td>\n",
       "    </tr>\n",
       "    <tr>\n",
       "      <th>25%</th>\n",
       "      <td>3.000000</td>\n",
       "      <td>3.000000</td>\n",
       "      <td>3.000000</td>\n",
       "      <td>3.000000e+06</td>\n",
       "    </tr>\n",
       "    <tr>\n",
       "      <th>50%</th>\n",
       "      <td>3.000000</td>\n",
       "      <td>3.000000</td>\n",
       "      <td>4.000000</td>\n",
       "      <td>6.000000e+06</td>\n",
       "    </tr>\n",
       "    <tr>\n",
       "      <th>75%</th>\n",
       "      <td>4.000000</td>\n",
       "      <td>4.000000</td>\n",
       "      <td>5.000000</td>\n",
       "      <td>1.000000e+07</td>\n",
       "    </tr>\n",
       "    <tr>\n",
       "      <th>max</th>\n",
       "      <td>7.000000</td>\n",
       "      <td>7.000000</td>\n",
       "      <td>8.000000</td>\n",
       "      <td>2.200000e+08</td>\n",
       "    </tr>\n",
       "  </tbody>\n",
       "</table>\n",
       "</div>"
      ],
      "text/plain": [
       "              bed        bath      toilet         price\n",
       "count  731.000000  731.000000  731.000000  7.310000e+02\n",
       "mean     3.233926    3.272230    4.030096  8.701933e+06\n",
       "std      1.016978    1.047388    1.197794  1.510336e+07\n",
       "min      1.000000    1.000000    1.000000  2.500000e+04\n",
       "25%      3.000000    3.000000    3.000000  3.000000e+06\n",
       "50%      3.000000    3.000000    4.000000  6.000000e+06\n",
       "75%      4.000000    4.000000    5.000000  1.000000e+07\n",
       "max      7.000000    7.000000    8.000000  2.200000e+08"
      ]
     },
     "execution_count": 4,
     "metadata": {},
     "output_type": "execute_result"
    }
   ],
   "source": [
    "data.describe()"
   ]
  },
  {
   "cell_type": "code",
   "execution_count": 5,
   "metadata": {},
   "outputs": [
    {
     "data": {
      "text/plain": [
       "(731, 6)"
      ]
     },
     "execution_count": 5,
     "metadata": {},
     "output_type": "execute_result"
    }
   ],
   "source": [
    "data.shape"
   ]
  },
  {
   "cell_type": "code",
   "execution_count": 6,
   "metadata": {},
   "outputs": [
    {
     "data": {
      "text/plain": [
       "type      0\n",
       "area      0\n",
       "bed       0\n",
       "bath      0\n",
       "toilet    0\n",
       "price     0\n",
       "dtype: int64"
      ]
     },
     "execution_count": 6,
     "metadata": {},
     "output_type": "execute_result"
    }
   ],
   "source": [
    "# Check if there are any null values\n",
    "data.isnull().sum()"
   ]
  },
  {
   "cell_type": "code",
   "execution_count": 7,
   "metadata": {},
   "outputs": [
    {
     "data": {
      "text/plain": [
       "<AxesSubplot:>"
      ]
     },
     "execution_count": 7,
     "metadata": {},
     "output_type": "execute_result"
    },
    {
     "data": {
      "image/png": "[encoded data removed]",
      "text/plain": [
       "<Figure size 864x576 with 2 Axes>"
      ]
     },
     "metadata": {
      "needs_background": "light"
     },
     "output_type": "display_data"
    }
   ],
   "source": [
    "#VISUALIZATION\n",
    "corr = data.corr()\n",
    "fig, ax = plt.subplots(figsize=(12,8))\n",
    "sns.heatmap(corr, annot=True,  linewidths=.6, ax = ax)"
   ]
  },
  {
   "cell_type": "code",
   "execution_count": 8,
   "metadata": {},
   "outputs": [
    {
     "data": {
      "image/png": "[encoded data removed]",
      "text/plain": [
       "<Figure size 720x720 with 20 Axes>"
      ]
     },
     "metadata": {
      "needs_background": "light"
     },
     "output_type": "display_data"
    }
   ],
   "source": [
    "%matplotlib inline\n",
    "\n",
    "# Calculate and show pairplot\n",
    "sns.pairplot(data, height=2.5)\n",
    "plt.tight_layout()"
   ]
  },
  {
   "cell_type": "code",
   "execution_count": 9,
   "metadata": {},
   "outputs": [
    {
     "data": {
      "image/png": "[encoded data removed]",
      "text/plain": [
       "<Figure size 432x288 with 1 Axes>"
      ]
     },
     "metadata": {
      "needs_background": "light"
     },
     "output_type": "display_data"
    }
   ],
   "source": [
    "# Visualizing house prices\n",
    "plt.hist(data['price'])\n",
    "plt.show()"
   ]
  },
  {
   "cell_type": "code",
   "execution_count": 10,
   "metadata": {},
   "outputs": [
    {
     "name": "stderr",
     "output_type": "stream",
     "text": [
      "C:\\Users\\User\\anaconda3\\envs\\Deeplearning\\lib\\site-packages\\seaborn\\_decorators.py:36: FutureWarning: Pass the following variable as a keyword arg: x. From version 0.12, the only valid positional argument will be `data`, and passing other arguments without an explicit keyword will result in an error or misinterpretation.\n",
      "  warnings.warn(\n",
      "C:\\Users\\User\\anaconda3\\envs\\Deeplearning\\lib\\site-packages\\seaborn\\_decorators.py:36: FutureWarning: Pass the following variable as a keyword arg: x. From version 0.12, the only valid positional argument will be `data`, and passing other arguments without an explicit keyword will result in an error or misinterpretation.\n",
      "  warnings.warn(\n",
      "C:\\Users\\User\\anaconda3\\envs\\Deeplearning\\lib\\site-packages\\seaborn\\_decorators.py:36: FutureWarning: Pass the following variable as a keyword arg: x. From version 0.12, the only valid positional argument will be `data`, and passing other arguments without an explicit keyword will result in an error or misinterpretation.\n",
      "  warnings.warn(\n"
     ]
    },
    {
     "data": {
      "text/plain": [
       "<AxesSubplot:xlabel='toilet', ylabel='count'>"
      ]
     },
     "execution_count": 10,
     "metadata": {},
     "output_type": "execute_result"
    },
    {
     "data": {
      "image/png": "[encoded data removed]",
      "text/plain": [
       "<Figure size 1080x504 with 3 Axes>"
      ]
     },
     "metadata": {
      "needs_background": "light"
     },
     "output_type": "display_data"
    }
   ],
   "source": [
    "# Visualizing bedroom, bathroom, toilet &Parking space\n",
    "\n",
    "fig = plt.figure(figsize=(15,7))\n",
    "fig.add_subplot(2,2,1)\n",
    "sns.countplot(data['bed'])\n",
    "fig.add_subplot(2,2,2)\n",
    "sns.countplot(data['bath'])\n",
    "fig.add_subplot(2,2,3)\n",
    "sns.countplot(data['toilet'])\n"
   ]
  },
  {
   "cell_type": "code",
   "execution_count": 11,
   "metadata": {},
   "outputs": [
    {
     "name": "stderr",
     "output_type": "stream",
     "text": [
      "C:\\Users\\User\\anaconda3\\envs\\Deeplearning\\lib\\site-packages\\seaborn\\_decorators.py:36: FutureWarning: Pass the following variables as keyword args: x, y. From version 0.12, the only valid positional argument will be `data`, and passing other arguments without an explicit keyword will result in an error or misinterpretation.\n",
      "  warnings.warn(\n",
      "C:\\Users\\User\\anaconda3\\envs\\Deeplearning\\lib\\site-packages\\seaborn\\_decorators.py:36: FutureWarning: Pass the following variables as keyword args: x, y. From version 0.12, the only valid positional argument will be `data`, and passing other arguments without an explicit keyword will result in an error or misinterpretation.\n",
      "  warnings.warn(\n",
      "C:\\Users\\User\\anaconda3\\envs\\Deeplearning\\lib\\site-packages\\seaborn\\_decorators.py:36: FutureWarning: Pass the following variables as keyword args: x, y. From version 0.12, the only valid positional argument will be `data`, and passing other arguments without an explicit keyword will result in an error or misinterpretation.\n",
      "  warnings.warn(\n"
     ]
    },
    {
     "data": {
      "text/plain": [
       "<AxesSubplot:xlabel='toilet', ylabel='price'>"
      ]
     },
     "execution_count": 11,
     "metadata": {},
     "output_type": "execute_result"
    },
    {
     "data": {
      "image/png": "[encoded data removed]",
      "text/plain": [
       "<Figure size 1152x360 with 3 Axes>"
      ]
     },
     "metadata": {
      "needs_background": "light"
     },
     "output_type": "display_data"
    }
   ],
   "source": [
    "#visualizing some features distribution vs. price\n",
    "\n",
    "fig = plt.figure(figsize=(16,5))\n",
    "fig.add_subplot(2,2,1)\n",
    "sns.scatterplot(data['bed'], data['price'])\n",
    "fig.add_subplot(2,2,2)\n",
    "sns.scatterplot(data['bath'],data['price'])\n",
    "fig.add_subplot(2,2,3)\n",
    "sns.scatterplot(data['toilet'],data['price'])\n",
    "\n",
    "\n",
    "\n",
    "                                         \n"
   ]
  },
  {
   "cell_type": "markdown",
   "metadata": {},
   "source": [
    "## Dataset Preparation (Splitting and Scaling)\n",
    "\n",
    "Data is divided into the Train set and Test set. We use the Train set to make the algorithm learn the data’s behavior and then check the accuracy of our model on the Test set. Features (X): The columns that are inserted into our model will be used to make predictions. Prediction (Y): Target variable that will be predicted by the features\n"
   ]
  },
  {
   "cell_type": "code",
   "execution_count": 24,
   "metadata": {},
   "outputs": [],
   "source": [
    "import tensorflow as tf\n",
    "from tensorflow import keras\n",
    "from tensorflow.keras import layers\n",
    "from keras.models import Sequential\n",
    "from keras.layers import Dense\n",
    "from keras import metrics\n",
    "from keras.models import load_model\n",
    "from keras.models import model_from_json\n",
    "from keras.wrappers.scikit_learn import KerasRegressor\n",
    "from sklearn.model_selection import cross_val_score\n",
    "from sklearn.model_selection import KFold\n",
    "from sklearn.preprocessing import StandardScaler\n",
    "from sklearn.pipeline import Pipeline"
   ]
  },
  {
   "cell_type": "code",
   "execution_count": 25,
   "metadata": {},
   "outputs": [
    {
     "data": {
      "text/html": [
       "<div>\n",
       "<style scoped>\n",
       "    .dataframe tbody tr th:only-of-type {\n",
       "        vertical-align: middle;\n",
       "    }\n",
       "\n",
       "    .dataframe tbody tr th {\n",
       "        vertical-align: top;\n",
       "    }\n",
       "\n",
       "    .dataframe thead th {\n",
       "        text-align: right;\n",
       "    }\n",
       "</style>\n",
       "<table border=\"1\" class=\"dataframe\">\n",
       "  <thead>\n",
       "    <tr style=\"text-align: right;\">\n",
       "      <th></th>\n",
       "      <th>bed</th>\n",
       "      <th>bath</th>\n",
       "      <th>toilet</th>\n",
       "      <th>price</th>\n",
       "    </tr>\n",
       "  </thead>\n",
       "  <tbody>\n",
       "    <tr>\n",
       "      <th>0</th>\n",
       "      <td>2</td>\n",
       "      <td>2</td>\n",
       "      <td>2</td>\n",
       "      <td>1000000</td>\n",
       "    </tr>\n",
       "    <tr>\n",
       "      <th>1</th>\n",
       "      <td>5</td>\n",
       "      <td>5</td>\n",
       "      <td>6</td>\n",
       "      <td>4000000</td>\n",
       "    </tr>\n",
       "    <tr>\n",
       "      <th>2</th>\n",
       "      <td>4</td>\n",
       "      <td>4</td>\n",
       "      <td>5</td>\n",
       "      <td>3500000</td>\n",
       "    </tr>\n",
       "    <tr>\n",
       "      <th>3</th>\n",
       "      <td>4</td>\n",
       "      <td>4</td>\n",
       "      <td>5</td>\n",
       "      <td>5500000</td>\n",
       "    </tr>\n",
       "    <tr>\n",
       "      <th>4</th>\n",
       "      <td>4</td>\n",
       "      <td>4</td>\n",
       "      <td>5</td>\n",
       "      <td>4000000</td>\n",
       "    </tr>\n",
       "  </tbody>\n",
       "</table>\n",
       "</div>"
      ],
      "text/plain": [
       "   bed  bath  toilet    price\n",
       "0    2     2       2  1000000\n",
       "1    5     5       6  4000000\n",
       "2    4     4       5  3500000\n",
       "3    4     4       5  5500000\n",
       "4    4     4       5  4000000"
      ]
     },
     "execution_count": 25,
     "metadata": {},
     "output_type": "execute_result"
    }
   ],
   "source": [
    "data = pd.read_csv(\"rent_right_data.csv\")\n",
    "data = data.drop('type',axis=1)\n",
    "data = data.drop('area',axis=1)\n",
    "data.head(5)\n"
   ]
  },
  {
   "cell_type": "code",
   "execution_count": 26,
   "metadata": {},
   "outputs": [
    {
     "name": "stdout",
     "output_type": "stream",
     "text": [
      "     bed  bath  toilet     price\n",
      "0      2     2       2   1000000\n",
      "1      5     5       6   4000000\n",
      "2      4     4       5   3500000\n",
      "3      4     4       5   5500000\n",
      "4      4     4       5   4000000\n",
      "..   ...   ...     ...       ...\n",
      "726    5     4       4   3000000\n",
      "727    4     4       4  20000000\n",
      "728    3     3       4   2200000\n",
      "729    3     3       4   3700000\n",
      "730    2     2       2   6500000\n",
      "\n",
      "[731 rows x 4 columns]\n"
     ]
    }
   ],
   "source": [
    "print(data)"
   ]
  },
  {
   "cell_type": "code",
   "execution_count": 31,
   "metadata": {},
   "outputs": [
    {
     "ename": "ValueError",
     "evalue": "Found input variables with inconsistent numbers of samples: [548, 731]",
     "output_type": "error",
     "traceback": [
      "\u001b[1;31m---------------------------------------------------------------------------\u001b[0m",
      "\u001b[1;31mValueError\u001b[0m                                Traceback (most recent call last)",
      "\u001b[1;32m<ipython-input-31-710ca9f35c47>\u001b[0m in \u001b[0;36m<module>\u001b[1;34m\u001b[0m\n\u001b[0;32m      4\u001b[0m \u001b[1;31m#splitting Train and Test\u001b[0m\u001b[1;33m\u001b[0m\u001b[1;33m\u001b[0m\u001b[1;33m\u001b[0m\u001b[0m\n\u001b[0;32m      5\u001b[0m \u001b[1;32mfrom\u001b[0m \u001b[0msklearn\u001b[0m\u001b[1;33m.\u001b[0m\u001b[0mmodel_selection\u001b[0m \u001b[1;32mimport\u001b[0m \u001b[0mtrain_test_split\u001b[0m\u001b[1;33m\u001b[0m\u001b[1;33m\u001b[0m\u001b[0m\n\u001b[1;32m----> 6\u001b[1;33m \u001b[0mX_train\u001b[0m\u001b[1;33m,\u001b[0m \u001b[0mX_test\u001b[0m\u001b[1;33m,\u001b[0m \u001b[0my_train\u001b[0m\u001b[1;33m,\u001b[0m \u001b[0my_test\u001b[0m \u001b[1;33m=\u001b[0m \u001b[0mtrain_test_split\u001b[0m\u001b[1;33m(\u001b[0m\u001b[0mX_train\u001b[0m\u001b[1;33m,\u001b[0m \u001b[0my\u001b[0m\u001b[1;33m,\u001b[0m \u001b[0mtest_size\u001b[0m\u001b[1;33m=\u001b[0m\u001b[1;36m0.25\u001b[0m\u001b[1;33m,\u001b[0m \u001b[0mrandom_state\u001b[0m\u001b[1;33m=\u001b[0m\u001b[1;36m1\u001b[0m\u001b[1;33m)\u001b[0m\u001b[1;33m\u001b[0m\u001b[1;33m\u001b[0m\u001b[0m\n\u001b[0m",
      "\u001b[1;32m~\\anaconda3\\envs\\Deeplearning\\lib\\site-packages\\sklearn\\model_selection\\_split.py\u001b[0m in \u001b[0;36mtrain_test_split\u001b[1;34m(*arrays, **options)\u001b[0m\n\u001b[0;32m   2125\u001b[0m         \u001b[1;32mraise\u001b[0m \u001b[0mTypeError\u001b[0m\u001b[1;33m(\u001b[0m\u001b[1;34m\"Invalid parameters passed: %s\"\u001b[0m \u001b[1;33m%\u001b[0m \u001b[0mstr\u001b[0m\u001b[1;33m(\u001b[0m\u001b[0moptions\u001b[0m\u001b[1;33m)\u001b[0m\u001b[1;33m)\u001b[0m\u001b[1;33m\u001b[0m\u001b[1;33m\u001b[0m\u001b[0m\n\u001b[0;32m   2126\u001b[0m \u001b[1;33m\u001b[0m\u001b[0m\n\u001b[1;32m-> 2127\u001b[1;33m     \u001b[0marrays\u001b[0m \u001b[1;33m=\u001b[0m \u001b[0mindexable\u001b[0m\u001b[1;33m(\u001b[0m\u001b[1;33m*\u001b[0m\u001b[0marrays\u001b[0m\u001b[1;33m)\u001b[0m\u001b[1;33m\u001b[0m\u001b[1;33m\u001b[0m\u001b[0m\n\u001b[0m\u001b[0;32m   2128\u001b[0m \u001b[1;33m\u001b[0m\u001b[0m\n\u001b[0;32m   2129\u001b[0m     \u001b[0mn_samples\u001b[0m \u001b[1;33m=\u001b[0m \u001b[0m_num_samples\u001b[0m\u001b[1;33m(\u001b[0m\u001b[0marrays\u001b[0m\u001b[1;33m[\u001b[0m\u001b[1;36m0\u001b[0m\u001b[1;33m]\u001b[0m\u001b[1;33m)\u001b[0m\u001b[1;33m\u001b[0m\u001b[1;33m\u001b[0m\u001b[0m\n",
      "\u001b[1;32m~\\anaconda3\\envs\\Deeplearning\\lib\\site-packages\\sklearn\\utils\\validation.py\u001b[0m in \u001b[0;36mindexable\u001b[1;34m(*iterables)\u001b[0m\n\u001b[0;32m    290\u001b[0m     \"\"\"\n\u001b[0;32m    291\u001b[0m     \u001b[0mresult\u001b[0m \u001b[1;33m=\u001b[0m \u001b[1;33m[\u001b[0m\u001b[0m_make_indexable\u001b[0m\u001b[1;33m(\u001b[0m\u001b[0mX\u001b[0m\u001b[1;33m)\u001b[0m \u001b[1;32mfor\u001b[0m \u001b[0mX\u001b[0m \u001b[1;32min\u001b[0m \u001b[0miterables\u001b[0m\u001b[1;33m]\u001b[0m\u001b[1;33m\u001b[0m\u001b[1;33m\u001b[0m\u001b[0m\n\u001b[1;32m--> 292\u001b[1;33m     \u001b[0mcheck_consistent_length\u001b[0m\u001b[1;33m(\u001b[0m\u001b[1;33m*\u001b[0m\u001b[0mresult\u001b[0m\u001b[1;33m)\u001b[0m\u001b[1;33m\u001b[0m\u001b[1;33m\u001b[0m\u001b[0m\n\u001b[0m\u001b[0;32m    293\u001b[0m     \u001b[1;32mreturn\u001b[0m \u001b[0mresult\u001b[0m\u001b[1;33m\u001b[0m\u001b[1;33m\u001b[0m\u001b[0m\n\u001b[0;32m    294\u001b[0m \u001b[1;33m\u001b[0m\u001b[0m\n",
      "\u001b[1;32m~\\anaconda3\\envs\\Deeplearning\\lib\\site-packages\\sklearn\\utils\\validation.py\u001b[0m in \u001b[0;36mcheck_consistent_length\u001b[1;34m(*arrays)\u001b[0m\n\u001b[0;32m    253\u001b[0m     \u001b[0muniques\u001b[0m \u001b[1;33m=\u001b[0m \u001b[0mnp\u001b[0m\u001b[1;33m.\u001b[0m\u001b[0munique\u001b[0m\u001b[1;33m(\u001b[0m\u001b[0mlengths\u001b[0m\u001b[1;33m)\u001b[0m\u001b[1;33m\u001b[0m\u001b[1;33m\u001b[0m\u001b[0m\n\u001b[0;32m    254\u001b[0m     \u001b[1;32mif\u001b[0m \u001b[0mlen\u001b[0m\u001b[1;33m(\u001b[0m\u001b[0muniques\u001b[0m\u001b[1;33m)\u001b[0m \u001b[1;33m>\u001b[0m \u001b[1;36m1\u001b[0m\u001b[1;33m:\u001b[0m\u001b[1;33m\u001b[0m\u001b[1;33m\u001b[0m\u001b[0m\n\u001b[1;32m--> 255\u001b[1;33m         raise ValueError(\"Found input variables with inconsistent numbers of\"\n\u001b[0m\u001b[0;32m    256\u001b[0m                          \" samples: %r\" % [int(l) for l in lengths])\n\u001b[0;32m    257\u001b[0m \u001b[1;33m\u001b[0m\u001b[0m\n",
      "\u001b[1;31mValueError\u001b[0m: Found input variables with inconsistent numbers of samples: [548, 731]"
     ]
    }
   ],
   "source": [
    "# split into input (X) and output (y) variables\n",
    "X = data.iloc[:,0:3].values\n",
    "y = data.iloc[:,3].values\n",
    "#splitting Train and Test \n",
    "from sklearn.model_selection import train_test_split\n",
    "X_train, X_test, y_train, y_test = train_test_split(X_train, y, test_size=0.25, random_state=1)"
   ]
  },
  {
   "cell_type": "code",
   "execution_count": 32,
   "metadata": {},
   "outputs": [
    {
     "name": "stdout",
     "output_type": "stream",
     "text": [
      "(548, 3) (183, 3) (548,) (183,)\n"
     ]
    }
   ],
   "source": [
    "print(X_train.shape, X_test.shape, y_train.shape, y_test.shape)"
   ]
  },
  {
   "cell_type": "code",
   "execution_count": 33,
   "metadata": {},
   "outputs": [],
   "source": [
    "from sklearn.preprocessing import StandardScaler\n",
    "sc = StandardScaler()\n",
    "X_train = sc.fit_transform(X_train)\n",
    "X_test = sc.transform(X_test)"
   ]
  },
  {
   "cell_type": "code",
   "execution_count": 34,
   "metadata": {},
   "outputs": [],
   "source": [
    "# create model\n",
    "model = Sequential()\n",
    "model.add(Dense(3, input_dim=3, kernel_initializer='normal', activation='relu'))\n",
    "model.add(Dense(1, kernel_initializer='normal'))\n",
    "# Compile model\n",
    "model.compile(optimizer='adam', loss='mean_absolute_error', metrics=['MeanAbsoluteError','mse'])"
   ]
  },
  {
   "cell_type": "code",
   "execution_count": 38,
   "metadata": {},
   "outputs": [
    {
     "name": "stdout",
     "output_type": "stream",
     "text": [
      "Epoch 1/40\n",
      "55/55 [==============================] - 0s 6ms/step - loss: 8272443.0000 - mean_absolute_error: 8272443.0000 - mse: 285186533097472.0000 - val_loss: 9988060.0000 - val_mean_absolute_error: 9988060.0000 - val_mse: 358433240907776.0000\n",
      "Epoch 2/40\n",
      "55/55 [==============================] - 0s 2ms/step - loss: 8272440.0000 - mean_absolute_error: 8272440.0000 - mse: 285186432434176.0000 - val_loss: 9988060.0000 - val_mean_absolute_error: 9988060.0000 - val_mse: 358433240907776.0000\n",
      "Epoch 3/40\n",
      "55/55 [==============================] - 0s 2ms/step - loss: 8272442.0000 - mean_absolute_error: 8272442.0000 - mse: 285186398879744.0000 - val_loss: 9988060.0000 - val_mean_absolute_error: 9988060.0000 - val_mse: 358433240907776.0000\n",
      "Epoch 4/40\n",
      "55/55 [==============================] - 0s 2ms/step - loss: 8272441.0000 - mean_absolute_error: 8272441.0000 - mse: 285186465988608.0000 - val_loss: 9988060.0000 - val_mean_absolute_error: 9988060.0000 - val_mse: 358433240907776.0000\n",
      "Epoch 5/40\n",
      "55/55 [==============================] - 0s 2ms/step - loss: 8272442.0000 - mean_absolute_error: 8272442.0000 - mse: 285186398879744.0000 - val_loss: 9988060.0000 - val_mean_absolute_error: 9988060.0000 - val_mse: 358433240907776.0000\n",
      "Epoch 6/40\n",
      "55/55 [==============================] - 0s 2ms/step - loss: 8272441.0000 - mean_absolute_error: 8272441.0000 - mse: 285186398879744.0000 - val_loss: 9988058.0000 - val_mean_absolute_error: 9988058.0000 - val_mse: 358433173798912.0000\n",
      "Epoch 7/40\n",
      "55/55 [==============================] - 0s 2ms/step - loss: 8272439.0000 - mean_absolute_error: 8272439.0000 - mse: 285186499543040.0000 - val_loss: 9988058.0000 - val_mean_absolute_error: 9988058.0000 - val_mse: 358433173798912.0000\n",
      "Epoch 8/40\n",
      "55/55 [==============================] - 0s 2ms/step - loss: 8272439.0000 - mean_absolute_error: 8272438.0000 - mse: 285186465988608.0000 - val_loss: 9988057.0000 - val_mean_absolute_error: 9988057.0000 - val_mse: 358433173798912.0000\n",
      "Epoch 9/40\n",
      "55/55 [==============================] - 0s 2ms/step - loss: 8272440.0000 - mean_absolute_error: 8272440.0000 - mse: 285186398879744.0000 - val_loss: 9988057.0000 - val_mean_absolute_error: 9988057.0000 - val_mse: 358433173798912.0000\n",
      "Epoch 10/40\n",
      "55/55 [==============================] - 0s 2ms/step - loss: 8272438.0000 - mean_absolute_error: 8272438.0000 - mse: 285186432434176.0000 - val_loss: 9988057.0000 - val_mean_absolute_error: 9988057.0000 - val_mse: 358433173798912.0000\n",
      "Epoch 11/40\n",
      "55/55 [==============================] - 0s 2ms/step - loss: 8272436.5000 - mean_absolute_error: 8272436.5000 - mse: 285186432434176.0000 - val_loss: 9988055.0000 - val_mean_absolute_error: 9988055.0000 - val_mse: 358433173798912.0000\n",
      "Epoch 12/40\n",
      "55/55 [==============================] - 0s 2ms/step - loss: 8272436.5000 - mean_absolute_error: 8272436.5000 - mse: 285186432434176.0000 - val_loss: 9988055.0000 - val_mean_absolute_error: 9988055.0000 - val_mse: 358433140244480.0000\n",
      "Epoch 13/40\n",
      "55/55 [==============================] - 0s 2ms/step - loss: 8272437.5000 - mean_absolute_error: 8272437.5000 - mse: 285186331770880.0000 - val_loss: 9988055.0000 - val_mean_absolute_error: 9988055.0000 - val_mse: 358433106690048.0000\n",
      "Epoch 14/40\n",
      "55/55 [==============================] - 0s 2ms/step - loss: 8272434.5000 - mean_absolute_error: 8272434.5000 - mse: 285186398879744.0000 - val_loss: 9988054.0000 - val_mean_absolute_error: 9988054.0000 - val_mse: 358433106690048.0000\n",
      "Epoch 15/40\n",
      "55/55 [==============================] - 0s 2ms/step - loss: 8272433.5000 - mean_absolute_error: 8272433.5000 - mse: 285186331770880.0000 - val_loss: 9988052.0000 - val_mean_absolute_error: 9988052.0000 - val_mse: 358433106690048.0000\n",
      "Epoch 16/40\n",
      "55/55 [==============================] - 0s 2ms/step - loss: 8272434.5000 - mean_absolute_error: 8272434.5000 - mse: 285186398879744.0000 - val_loss: 9988051.0000 - val_mean_absolute_error: 9988051.0000 - val_mse: 358433106690048.0000\n",
      "Epoch 17/40\n",
      "55/55 [==============================] - 0s 2ms/step - loss: 8272430.0000 - mean_absolute_error: 8272430.0000 - mse: 285186331770880.0000 - val_loss: 9988050.0000 - val_mean_absolute_error: 9988050.0000 - val_mse: 358433039581184.0000\n",
      "Epoch 18/40\n",
      "55/55 [==============================] - 0s 2ms/step - loss: 8272430.0000 - mean_absolute_error: 8272429.0000 - mse: 285186298216448.0000 - val_loss: 9988048.0000 - val_mean_absolute_error: 9988049.0000 - val_mse: 358433039581184.0000\n",
      "Epoch 19/40\n",
      "55/55 [==============================] - 0s 2ms/step - loss: 8272428.0000 - mean_absolute_error: 8272428.0000 - mse: 285186231107584.0000 - val_loss: 9988048.0000 - val_mean_absolute_error: 9988048.0000 - val_mse: 358433006026752.0000\n",
      "Epoch 20/40\n",
      "55/55 [==============================] - 0s 2ms/step - loss: 8272428.0000 - mean_absolute_error: 8272428.0000 - mse: 285186264662016.0000 - val_loss: 9988046.0000 - val_mean_absolute_error: 9988046.0000 - val_mse: 358432938917888.0000\n",
      "Epoch 21/40\n",
      "55/55 [==============================] - 0s 2ms/step - loss: 8272426.0000 - mean_absolute_error: 8272426.0000 - mse: 285186231107584.0000 - val_loss: 9988045.0000 - val_mean_absolute_error: 9988045.0000 - val_mse: 358432938917888.0000\n",
      "Epoch 22/40\n",
      "55/55 [==============================] - 0s 2ms/step - loss: 8272425.0000 - mean_absolute_error: 8272425.0000 - mse: 285186163998720.0000 - val_loss: 9988044.0000 - val_mean_absolute_error: 9988044.0000 - val_mse: 358432938917888.0000\n",
      "Epoch 23/40\n",
      "55/55 [==============================] - 0s 2ms/step - loss: 8272424.0000 - mean_absolute_error: 8272424.0000 - mse: 285186197553152.0000 - val_loss: 9988042.0000 - val_mean_absolute_error: 9988042.0000 - val_mse: 358432871809024.0000\n",
      "Epoch 24/40\n",
      "55/55 [==============================] - 0s 2ms/step - loss: 8272421.5000 - mean_absolute_error: 8272421.5000 - mse: 285186163998720.0000 - val_loss: 9988040.0000 - val_mean_absolute_error: 9988040.0000 - val_mse: 358432871809024.0000\n",
      "Epoch 25/40\n",
      "55/55 [==============================] - 0s 2ms/step - loss: 8272421.5000 - mean_absolute_error: 8272421.5000 - mse: 285186130444288.0000 - val_loss: 9988039.0000 - val_mean_absolute_error: 9988039.0000 - val_mse: 358432804700160.0000\n",
      "Epoch 26/40\n",
      "55/55 [==============================] - 0s 2ms/step - loss: 8272417.5000 - mean_absolute_error: 8272417.5000 - mse: 285186130444288.0000 - val_loss: 9988038.0000 - val_mean_absolute_error: 9988038.0000 - val_mse: 358432771145728.0000\n",
      "Epoch 27/40\n",
      "55/55 [==============================] - 0s 2ms/step - loss: 8272418.5000 - mean_absolute_error: 8272418.5000 - mse: 285186096889856.0000 - val_loss: 9988037.0000 - val_mean_absolute_error: 9988037.0000 - val_mse: 358432771145728.0000\n",
      "Epoch 28/40\n",
      "55/55 [==============================] - 0s 2ms/step - loss: 8272416.5000 - mean_absolute_error: 8272416.5000 - mse: 285186063335424.0000 - val_loss: 9988034.0000 - val_mean_absolute_error: 9988036.0000 - val_mse: 358432737591296.0000\n",
      "Epoch 29/40\n",
      "55/55 [==============================] - 0s 2ms/step - loss: 8272414.0000 - mean_absolute_error: 8272414.0000 - mse: 285186096889856.0000 - val_loss: 9988032.0000 - val_mean_absolute_error: 9988032.0000 - val_mse: 358432704036864.0000\n",
      "Epoch 30/40\n",
      "55/55 [==============================] - 0s 2ms/step - loss: 8272412.0000 - mean_absolute_error: 8272412.0000 - mse: 285186063335424.0000 - val_loss: 9988030.0000 - val_mean_absolute_error: 9988030.0000 - val_mse: 358432704036864.0000\n",
      "Epoch 31/40\n",
      "55/55 [==============================] - 0s 2ms/step - loss: 8272409.0000 - mean_absolute_error: 8272409.0000 - mse: 285186063335424.0000 - val_loss: 9988028.0000 - val_mean_absolute_error: 9988028.0000 - val_mse: 358432704036864.0000\n",
      "Epoch 32/40\n",
      "55/55 [==============================] - 0s 2ms/step - loss: 8272408.5000 - mean_absolute_error: 8272408.5000 - mse: 285185996226560.0000 - val_loss: 9988026.0000 - val_mean_absolute_error: 9988025.0000 - val_mse: 358432636928000.0000\n",
      "Epoch 33/40\n",
      "55/55 [==============================] - 0s 2ms/step - loss: 8272406.5000 - mean_absolute_error: 8272406.5000 - mse: 285185996226560.0000 - val_loss: 9988025.0000 - val_mean_absolute_error: 9988025.0000 - val_mse: 358432636928000.0000\n",
      "Epoch 34/40\n"
     ]
    },
    {
     "name": "stdout",
     "output_type": "stream",
     "text": [
      "55/55 [==============================] - 0s 2ms/step - loss: 8272403.5000 - mean_absolute_error: 8272403.5000 - mse: 285185962672128.0000 - val_loss: 9988023.0000 - val_mean_absolute_error: 9988023.0000 - val_mse: 358432603373568.0000\n",
      "Epoch 35/40\n",
      "55/55 [==============================] - 0s 2ms/step - loss: 8272402.5000 - mean_absolute_error: 8272402.5000 - mse: 285185929117696.0000 - val_loss: 9988022.0000 - val_mean_absolute_error: 9988022.0000 - val_mse: 358432569819136.0000\n",
      "Epoch 36/40\n",
      "55/55 [==============================] - 0s 2ms/step - loss: 8272399.0000 - mean_absolute_error: 8272399.0000 - mse: 285185828454400.0000 - val_loss: 9988019.0000 - val_mean_absolute_error: 9988019.0000 - val_mse: 358432536264704.0000\n",
      "Epoch 37/40\n",
      "55/55 [==============================] - 0s 2ms/step - loss: 8272400.0000 - mean_absolute_error: 8272400.0000 - mse: 285185895563264.0000 - val_loss: 9988016.0000 - val_mean_absolute_error: 9988016.0000 - val_mse: 358432469155840.0000\n",
      "Epoch 38/40\n",
      "55/55 [==============================] - 0s 2ms/step - loss: 8272397.0000 - mean_absolute_error: 8272397.0000 - mse: 285185828454400.0000 - val_loss: 9988015.0000 - val_mean_absolute_error: 9988015.0000 - val_mse: 358432402046976.0000\n",
      "Epoch 39/40\n",
      "55/55 [==============================] - 0s 2ms/step - loss: 8272395.0000 - mean_absolute_error: 8272395.0000 - mse: 285185761345536.0000 - val_loss: 9988013.0000 - val_mean_absolute_error: 9988013.0000 - val_mse: 358432402046976.0000\n",
      "Epoch 40/40\n",
      "55/55 [==============================] - 0s 2ms/step - loss: 8272391.5000 - mean_absolute_error: 8272391.5000 - mse: 285185694236672.0000 - val_loss: 9988011.0000 - val_mean_absolute_error: 9988011.0000 - val_mse: 358432402046976.0000\n",
      "Model: \"sequential_2\"\n",
      "_________________________________________________________________\n",
      "Layer (type)                 Output Shape              Param #   \n",
      "=================================================================\n",
      "dense_4 (Dense)              (None, 3)                 12        \n",
      "_________________________________________________________________\n",
      "dense_5 (Dense)              (None, 1)                 4         \n",
      "=================================================================\n",
      "Total params: 16\n",
      "Trainable params: 16\n",
      "Non-trainable params: 0\n",
      "_________________________________________________________________\n"
     ]
    }
   ],
   "source": [
    "# Training the Model\n",
    "model.fit(X_train, y_train, validation_data=(X_test,y_test), batch_size=10, epochs=40)\n",
    "model.summary()"
   ]
  },
  {
   "cell_type": "code",
   "execution_count": 39,
   "metadata": {
    "scrolled": false
   },
   "outputs": [
    {
     "name": "stdout",
     "output_type": "stream",
     "text": [
      "Epoch 1/150\n",
      "18/18 [==============================] - 0s 7ms/step - loss: 8272389.5000 - mean_absolute_error: 8272389.5000 - mse: 285185727791104.0000 - val_loss: 9988009.0000 - val_mean_absolute_error: 9988009.0000 - val_mse: 358432402046976.0000\n",
      "Epoch 2/150\n",
      "18/18 [==============================] - 0s 3ms/step - loss: 8272388.5000 - mean_absolute_error: 8272388.5000 - mse: 285185761345536.0000 - val_loss: 9988009.0000 - val_mean_absolute_error: 9988009.0000 - val_mse: 358432334938112.0000\n",
      "Epoch 3/150\n",
      "18/18 [==============================] - 0s 2ms/step - loss: 8272388.5000 - mean_absolute_error: 8272388.5000 - mse: 285185727791104.0000 - val_loss: 9988009.0000 - val_mean_absolute_error: 9988009.0000 - val_mse: 358432334938112.0000\n",
      "Epoch 4/150\n",
      "18/18 [==============================] - 0s 2ms/step - loss: 8272387.0000 - mean_absolute_error: 8272387.0000 - mse: 285185727791104.0000 - val_loss: 9988009.0000 - val_mean_absolute_error: 9988009.0000 - val_mse: 358432334938112.0000\n",
      "Epoch 5/150\n",
      "18/18 [==============================] - 0s 2ms/step - loss: 8272387.5000 - mean_absolute_error: 8272387.5000 - mse: 285185694236672.0000 - val_loss: 9988006.0000 - val_mean_absolute_error: 9988006.0000 - val_mse: 358432334938112.0000\n",
      "Epoch 6/150\n",
      "18/18 [==============================] - 0s 6ms/step - loss: 8272386.0000 - mean_absolute_error: 8272386.0000 - mse: 285185727791104.0000 - val_loss: 9988006.0000 - val_mean_absolute_error: 9988006.0000 - val_mse: 358432334938112.0000\n",
      "Epoch 7/150\n",
      "18/18 [==============================] - 0s 4ms/step - loss: 8272386.0000 - mean_absolute_error: 8272386.0000 - mse: 285185660682240.0000 - val_loss: 9988006.0000 - val_mean_absolute_error: 9988006.0000 - val_mse: 358432334938112.0000\n",
      "Epoch 8/150\n",
      "18/18 [==============================] - 0s 4ms/step - loss: 8272385.0000 - mean_absolute_error: 8272385.0000 - mse: 285185660682240.0000 - val_loss: 9988005.0000 - val_mean_absolute_error: 9988005.0000 - val_mse: 358432267829248.0000\n",
      "Epoch 9/150\n",
      "18/18 [==============================] - 0s 3ms/step - loss: 8272384.0000 - mean_absolute_error: 8272384.0000 - mse: 285185660682240.0000 - val_loss: 9988004.0000 - val_mean_absolute_error: 9988004.0000 - val_mse: 358432267829248.0000\n",
      "Epoch 10/150\n",
      "18/18 [==============================] - 0s 5ms/step - loss: 8272383.0000 - mean_absolute_error: 8272383.0000 - mse: 285185593573376.0000 - val_loss: 9988003.0000 - val_mean_absolute_error: 9988003.0000 - val_mse: 358432234274816.0000\n",
      "Epoch 11/150\n",
      "18/18 [==============================] - 0s 3ms/step - loss: 8272382.0000 - mean_absolute_error: 8272382.0000 - mse: 285185627127808.0000 - val_loss: 9988002.0000 - val_mean_absolute_error: 9988002.0000 - val_mse: 358432234274816.0000\n",
      "Epoch 12/150\n",
      "18/18 [==============================] - 0s 4ms/step - loss: 8272381.0000 - mean_absolute_error: 8272381.0000 - mse: 285185627127808.0000 - val_loss: 9988002.0000 - val_mean_absolute_error: 9988002.0000 - val_mse: 358432234274816.0000\n",
      "Epoch 13/150\n",
      "18/18 [==============================] - 0s 4ms/step - loss: 8272382.0000 - mean_absolute_error: 8272382.0000 - mse: 285185627127808.0000 - val_loss: 9988002.0000 - val_mean_absolute_error: 9988002.0000 - val_mse: 358432234274816.0000\n",
      "Epoch 14/150\n",
      "18/18 [==============================] - 0s 4ms/step - loss: 8272379.5000 - mean_absolute_error: 8272379.5000 - mse: 285185593573376.0000 - val_loss: 9988001.0000 - val_mean_absolute_error: 9988001.0000 - val_mse: 358432167165952.0000\n",
      "Epoch 15/150\n",
      "18/18 [==============================] - 0s 4ms/step - loss: 8272380.5000 - mean_absolute_error: 8272380.5000 - mse: 285185593573376.0000 - val_loss: 9987999.0000 - val_mean_absolute_error: 9987999.0000 - val_mse: 358432167165952.0000\n",
      "Epoch 16/150\n",
      "18/18 [==============================] - 0s 4ms/step - loss: 8272378.5000 - mean_absolute_error: 8272378.5000 - mse: 285185593573376.0000 - val_loss: 9987999.0000 - val_mean_absolute_error: 9987999.0000 - val_mse: 358432167165952.0000\n",
      "Epoch 17/150\n",
      "18/18 [==============================] - 0s 4ms/step - loss: 8272378.5000 - mean_absolute_error: 8272378.5000 - mse: 285185593573376.0000 - val_loss: 9987998.0000 - val_mean_absolute_error: 9987998.0000 - val_mse: 358432167165952.0000\n",
      "Epoch 18/150\n",
      "18/18 [==============================] - 0s 3ms/step - loss: 8272377.5000 - mean_absolute_error: 8272377.5000 - mse: 285185593573376.0000 - val_loss: 9987997.0000 - val_mean_absolute_error: 9987997.0000 - val_mse: 358432167165952.0000\n",
      "Epoch 19/150\n",
      "18/18 [==============================] - 0s 4ms/step - loss: 8272375.5000 - mean_absolute_error: 8272375.5000 - mse: 285185560018944.0000 - val_loss: 9987997.0000 - val_mean_absolute_error: 9987997.0000 - val_mse: 358432167165952.0000\n",
      "Epoch 20/150\n",
      "18/18 [==============================] - 0s 3ms/step - loss: 8272374.5000 - mean_absolute_error: 8272374.5000 - mse: 285185526464512.0000 - val_loss: 9987995.0000 - val_mean_absolute_error: 9987995.0000 - val_mse: 358432167165952.0000\n",
      "Epoch 21/150\n",
      "18/18 [==============================] - 0s 3ms/step - loss: 8272373.5000 - mean_absolute_error: 8272373.5000 - mse: 285185526464512.0000 - val_loss: 9987995.0000 - val_mean_absolute_error: 9987995.0000 - val_mse: 358432133611520.0000\n",
      "Epoch 22/150\n",
      "18/18 [==============================] - 0s 3ms/step - loss: 8272374.5000 - mean_absolute_error: 8272374.5000 - mse: 285185560018944.0000 - val_loss: 9987994.0000 - val_mean_absolute_error: 9987994.0000 - val_mse: 358432100057088.0000\n",
      "Epoch 23/150\n",
      "18/18 [==============================] - 0s 3ms/step - loss: 8272373.0000 - mean_absolute_error: 8272373.0000 - mse: 285185560018944.0000 - val_loss: 9987992.0000 - val_mean_absolute_error: 9987992.0000 - val_mse: 358432066502656.0000\n",
      "Epoch 24/150\n",
      "18/18 [==============================] - 0s 4ms/step - loss: 8272372.0000 - mean_absolute_error: 8272372.0000 - mse: 285185526464512.0000 - val_loss: 9987992.0000 - val_mean_absolute_error: 9987992.0000 - val_mse: 358432066502656.0000\n",
      "Epoch 25/150\n",
      "18/18 [==============================] - 0s 3ms/step - loss: 8272371.0000 - mean_absolute_error: 8272371.0000 - mse: 285185492910080.0000 - val_loss: 9987991.0000 - val_mean_absolute_error: 9987991.0000 - val_mse: 358432066502656.0000\n",
      "Epoch 26/150\n",
      "18/18 [==============================] - 0s 3ms/step - loss: 8272370.0000 - mean_absolute_error: 8272370.0000 - mse: 285185492910080.0000 - val_loss: 9987990.0000 - val_mean_absolute_error: 9987990.0000 - val_mse: 358432066502656.0000\n",
      "Epoch 27/150\n",
      "18/18 [==============================] - 0s 3ms/step - loss: 8272370.0000 - mean_absolute_error: 8272370.0000 - mse: 285185459355648.0000 - val_loss: 9987990.0000 - val_mean_absolute_error: 9987990.0000 - val_mse: 358432066502656.0000\n",
      "Epoch 28/150\n",
      "18/18 [==============================] - 0s 3ms/step - loss: 8272369.0000 - mean_absolute_error: 8272369.0000 - mse: 285185459355648.0000 - val_loss: 9987989.0000 - val_mean_absolute_error: 9987989.0000 - val_mse: 358432066502656.0000\n",
      "Epoch 29/150\n",
      "18/18 [==============================] - 0s 3ms/step - loss: 8272368.0000 - mean_absolute_error: 8272368.0000 - mse: 285185425801216.0000 - val_loss: 9987988.0000 - val_mean_absolute_error: 9987988.0000 - val_mse: 358432066502656.0000\n",
      "Epoch 30/150\n",
      "18/18 [==============================] - 0s 3ms/step - loss: 8272367.0000 - mean_absolute_error: 8272367.0000 - mse: 285185425801216.0000 - val_loss: 9987987.0000 - val_mean_absolute_error: 9987987.0000 - val_mse: 358431999393792.0000\n",
      "Epoch 31/150\n",
      "18/18 [==============================] - 0s 3ms/step - loss: 8272366.0000 - mean_absolute_error: 8272366.0000 - mse: 285185425801216.0000 - val_loss: 9987986.0000 - val_mean_absolute_error: 9987986.0000 - val_mse: 358431999393792.0000\n",
      "Epoch 32/150\n",
      "18/18 [==============================] - 0s 3ms/step - loss: 8272364.5000 - mean_absolute_error: 8272364.5000 - mse: 285185425801216.0000 - val_loss: 9987985.0000 - val_mean_absolute_error: 9987985.0000 - val_mse: 358431965839360.0000\n",
      "Epoch 33/150\n",
      "18/18 [==============================] - 0s 3ms/step - loss: 8272364.5000 - mean_absolute_error: 8272364.5000 - mse: 285185392246784.0000 - val_loss: 9987984.0000 - val_mean_absolute_error: 9987984.0000 - val_mse: 358431932284928.0000\n",
      "Epoch 34/150\n"
     ]
    },
    {
     "name": "stdout",
     "output_type": "stream",
     "text": [
      "18/18 [==============================] - 0s 3ms/step - loss: 8272362.5000 - mean_absolute_error: 8272362.5000 - mse: 285185358692352.0000 - val_loss: 9987984.0000 - val_mean_absolute_error: 9987984.0000 - val_mse: 358431932284928.0000\n",
      "Epoch 35/150\n",
      "18/18 [==============================] - 0s 4ms/step - loss: 8272361.5000 - mean_absolute_error: 8272361.5000 - mse: 285185392246784.0000 - val_loss: 9987983.0000 - val_mean_absolute_error: 9987983.0000 - val_mse: 358431932284928.0000\n",
      "Epoch 36/150\n",
      "18/18 [==============================] - 0s 4ms/step - loss: 8272360.5000 - mean_absolute_error: 8272360.5000 - mse: 285185291583488.0000 - val_loss: 9987982.0000 - val_mean_absolute_error: 9987982.0000 - val_mse: 358431932284928.0000\n",
      "Epoch 37/150\n",
      "18/18 [==============================] - 0s 3ms/step - loss: 8272359.5000 - mean_absolute_error: 8272359.5000 - mse: 285185258029056.0000 - val_loss: 9987981.0000 - val_mean_absolute_error: 9987981.0000 - val_mse: 358431898730496.0000\n",
      "Epoch 38/150\n",
      "18/18 [==============================] - 0s 3ms/step - loss: 8272359.5000 - mean_absolute_error: 8272359.5000 - mse: 285185325137920.0000 - val_loss: 9987980.0000 - val_mean_absolute_error: 9987980.0000 - val_mse: 358431898730496.0000\n",
      "Epoch 39/150\n",
      "18/18 [==============================] - 0s 3ms/step - loss: 8272359.0000 - mean_absolute_error: 8272359.0000 - mse: 285185291583488.0000 - val_loss: 9987980.0000 - val_mean_absolute_error: 9987980.0000 - val_mse: 358431831621632.0000\n",
      "Epoch 40/150\n",
      "18/18 [==============================] - 0s 3ms/step - loss: 8272357.0000 - mean_absolute_error: 8272357.0000 - mse: 285185258029056.0000 - val_loss: 9987978.0000 - val_mean_absolute_error: 9987978.0000 - val_mse: 358431831621632.0000\n",
      "Epoch 41/150\n",
      "18/18 [==============================] - 0s 3ms/step - loss: 8272357.0000 - mean_absolute_error: 8272357.0000 - mse: 285185325137920.0000 - val_loss: 9987977.0000 - val_mean_absolute_error: 9987977.0000 - val_mse: 358431831621632.0000\n",
      "Epoch 42/150\n",
      "18/18 [==============================] - 0s 2ms/step - loss: 8272356.0000 - mean_absolute_error: 8272356.0000 - mse: 285185291583488.0000 - val_loss: 9987976.0000 - val_mean_absolute_error: 9987976.0000 - val_mse: 358431831621632.0000\n",
      "Epoch 43/150\n",
      "18/18 [==============================] - 0s 3ms/step - loss: 8272355.0000 - mean_absolute_error: 8272355.0000 - mse: 285185258029056.0000 - val_loss: 9987976.0000 - val_mean_absolute_error: 9987976.0000 - val_mse: 358431798067200.0000\n",
      "Epoch 44/150\n",
      "18/18 [==============================] - 0s 3ms/step - loss: 8272353.0000 - mean_absolute_error: 8272353.0000 - mse: 285185258029056.0000 - val_loss: 9987974.0000 - val_mean_absolute_error: 9987974.0000 - val_mse: 358431798067200.0000\n",
      "Epoch 45/150\n",
      "18/18 [==============================] - 0s 4ms/step - loss: 8272353.0000 - mean_absolute_error: 8272353.0000 - mse: 285185224474624.0000 - val_loss: 9987974.0000 - val_mean_absolute_error: 9987974.0000 - val_mse: 358431764512768.0000\n",
      "Epoch 46/150\n",
      "18/18 [==============================] - 0s 3ms/step - loss: 8272351.5000 - mean_absolute_error: 8272351.5000 - mse: 285185224474624.0000 - val_loss: 9987971.0000 - val_mean_absolute_error: 9987971.0000 - val_mse: 358431764512768.0000\n",
      "Epoch 47/150\n",
      "18/18 [==============================] - 0s 3ms/step - loss: 8272350.5000 - mean_absolute_error: 8272350.5000 - mse: 285185157365760.0000 - val_loss: 9987971.0000 - val_mean_absolute_error: 9987971.0000 - val_mse: 358431764512768.0000\n",
      "Epoch 48/150\n",
      "18/18 [==============================] - 0s 3ms/step - loss: 8272350.5000 - mean_absolute_error: 8272350.5000 - mse: 285185157365760.0000 - val_loss: 9987971.0000 - val_mean_absolute_error: 9987971.0000 - val_mse: 358431697403904.0000\n",
      "Epoch 49/150\n",
      "18/18 [==============================] - 0s 3ms/step - loss: 8272348.5000 - mean_absolute_error: 8272348.5000 - mse: 285185190920192.0000 - val_loss: 9987970.0000 - val_mean_absolute_error: 9987970.0000 - val_mse: 358431697403904.0000\n",
      "Epoch 50/150\n",
      "18/18 [==============================] - 0s 3ms/step - loss: 8272347.5000 - mean_absolute_error: 8272347.5000 - mse: 285185157365760.0000 - val_loss: 9987969.0000 - val_mean_absolute_error: 9987969.0000 - val_mse: 358431697403904.0000\n",
      "Epoch 51/150\n",
      "18/18 [==============================] - 0s 2ms/step - loss: 8272346.5000 - mean_absolute_error: 8272346.5000 - mse: 285185123811328.0000 - val_loss: 9987968.0000 - val_mean_absolute_error: 9987968.0000 - val_mse: 358431697403904.0000\n",
      "Epoch 52/150\n",
      "18/18 [==============================] - 0s 3ms/step - loss: 8272345.5000 - mean_absolute_error: 8272345.5000 - mse: 285185157365760.0000 - val_loss: 9987967.0000 - val_mean_absolute_error: 9987967.0000 - val_mse: 358431697403904.0000\n",
      "Epoch 53/150\n",
      "18/18 [==============================] - 0s 3ms/step - loss: 8272344.0000 - mean_absolute_error: 8272344.0000 - mse: 285185157365760.0000 - val_loss: 9987966.0000 - val_mean_absolute_error: 9987966.0000 - val_mse: 358431697403904.0000\n",
      "Epoch 54/150\n",
      "18/18 [==============================] - 0s 3ms/step - loss: 8272344.0000 - mean_absolute_error: 8272344.0000 - mse: 285185123811328.0000 - val_loss: 9987965.0000 - val_mean_absolute_error: 9987965.0000 - val_mse: 358431697403904.0000\n",
      "Epoch 55/150\n",
      "18/18 [==============================] - 0s 3ms/step - loss: 8272343.0000 - mean_absolute_error: 8272343.0000 - mse: 285185123811328.0000 - val_loss: 9987964.0000 - val_mean_absolute_error: 9987964.0000 - val_mse: 358431630295040.0000\n",
      "Epoch 56/150\n",
      "18/18 [==============================] - 0s 2ms/step - loss: 8272342.0000 - mean_absolute_error: 8272342.0000 - mse: 285185123811328.0000 - val_loss: 9987964.0000 - val_mean_absolute_error: 9987964.0000 - val_mse: 358431630295040.0000\n",
      "Epoch 57/150\n",
      "18/18 [==============================] - 0s 3ms/step - loss: 8272341.0000 - mean_absolute_error: 8272341.0000 - mse: 285185123811328.0000 - val_loss: 9987963.0000 - val_mean_absolute_error: 9987963.0000 - val_mse: 358431596740608.0000\n",
      "Epoch 58/150\n",
      "18/18 [==============================] - 0s 3ms/step - loss: 8272340.0000 - mean_absolute_error: 8272340.0000 - mse: 285185090256896.0000 - val_loss: 9987961.0000 - val_mean_absolute_error: 9987961.0000 - val_mse: 358431529631744.0000\n",
      "Epoch 59/150\n",
      "18/18 [==============================] - 0s 2ms/step - loss: 8272338.0000 - mean_absolute_error: 8272338.0000 - mse: 285185056702464.0000 - val_loss: 9987960.0000 - val_mean_absolute_error: 9987960.0000 - val_mse: 358431529631744.0000\n",
      "Epoch 60/150\n",
      "18/18 [==============================] - 0s 3ms/step - loss: 8272337.5000 - mean_absolute_error: 8272337.5000 - mse: 285185056702464.0000 - val_loss: 9987960.0000 - val_mean_absolute_error: 9987960.0000 - val_mse: 358431529631744.0000\n",
      "Epoch 61/150\n",
      "18/18 [==============================] - 0s 3ms/step - loss: 8272336.5000 - mean_absolute_error: 8272336.5000 - mse: 285184989593600.0000 - val_loss: 9987959.0000 - val_mean_absolute_error: 9987959.0000 - val_mse: 358431529631744.0000\n",
      "Epoch 62/150\n",
      "18/18 [==============================] - 0s 3ms/step - loss: 8272336.5000 - mean_absolute_error: 8272336.5000 - mse: 285185056702464.0000 - val_loss: 9987958.0000 - val_mean_absolute_error: 9987958.0000 - val_mse: 358431496077312.0000\n",
      "Epoch 63/150\n",
      "18/18 [==============================] - 0s 3ms/step - loss: 8272335.5000 - mean_absolute_error: 8272335.5000 - mse: 285184956039168.0000 - val_loss: 9987957.0000 - val_mean_absolute_error: 9987957.0000 - val_mse: 358431462522880.0000\n",
      "Epoch 64/150\n",
      "18/18 [==============================] - 0s 3ms/step - loss: 8272333.5000 - mean_absolute_error: 8272333.5000 - mse: 285184989593600.0000 - val_loss: 9987956.0000 - val_mean_absolute_error: 9987956.0000 - val_mse: 358431462522880.0000\n",
      "Epoch 65/150\n",
      "18/18 [==============================] - 0s 3ms/step - loss: 8272331.5000 - mean_absolute_error: 8272331.5000 - mse: 285184956039168.0000 - val_loss: 9987955.0000 - val_mean_absolute_error: 9987955.0000 - val_mse: 358431462522880.0000\n",
      "Epoch 66/150\n",
      "18/18 [==============================] - 0s 3ms/step - loss: 8272330.5000 - mean_absolute_error: 8272330.5000 - mse: 285184956039168.0000 - val_loss: 9987953.0000 - val_mean_absolute_error: 9987953.0000 - val_mse: 358431395414016.0000\n",
      "Epoch 67/150\n"
     ]
    },
    {
     "name": "stdout",
     "output_type": "stream",
     "text": [
      "18/18 [==============================] - 0s 4ms/step - loss: 8272331.5000 - mean_absolute_error: 8272331.5000 - mse: 285184956039168.0000 - val_loss: 9987953.0000 - val_mean_absolute_error: 9987953.0000 - val_mse: 358431395414016.0000\n",
      "Epoch 68/150\n",
      "18/18 [==============================] - 0s 3ms/step - loss: 8272330.0000 - mean_absolute_error: 8272330.0000 - mse: 285184956039168.0000 - val_loss: 9987951.0000 - val_mean_absolute_error: 9987951.0000 - val_mse: 358431395414016.0000\n",
      "Epoch 69/150\n",
      "18/18 [==============================] - 0s 3ms/step - loss: 8272328.0000 - mean_absolute_error: 8272328.0000 - mse: 285184922484736.0000 - val_loss: 9987951.0000 - val_mean_absolute_error: 9987951.0000 - val_mse: 358431395414016.0000\n",
      "Epoch 70/150\n",
      "18/18 [==============================] - 0s 3ms/step - loss: 8272328.0000 - mean_absolute_error: 8272328.0000 - mse: 285184922484736.0000 - val_loss: 9987949.0000 - val_mean_absolute_error: 9987949.0000 - val_mse: 358431395414016.0000\n",
      "Epoch 71/150\n",
      "18/18 [==============================] - 0s 3ms/step - loss: 8272326.0000 - mean_absolute_error: 8272326.0000 - mse: 285184855375872.0000 - val_loss: 9987948.0000 - val_mean_absolute_error: 9987948.0000 - val_mse: 358431395414016.0000\n",
      "Epoch 72/150\n",
      "18/18 [==============================] - 0s 3ms/step - loss: 8272325.0000 - mean_absolute_error: 8272325.0000 - mse: 285184888930304.0000 - val_loss: 9987948.0000 - val_mean_absolute_error: 9987948.0000 - val_mse: 358431395414016.0000\n",
      "Epoch 73/150\n",
      "18/18 [==============================] - 0s 3ms/step - loss: 8272324.0000 - mean_absolute_error: 8272324.0000 - mse: 285184855375872.0000 - val_loss: 9987947.0000 - val_mean_absolute_error: 9987947.0000 - val_mse: 358431328305152.0000\n",
      "Epoch 74/150\n",
      "18/18 [==============================] - 0s 3ms/step - loss: 8272323.5000 - mean_absolute_error: 8272323.5000 - mse: 285184821821440.0000 - val_loss: 9987946.0000 - val_mean_absolute_error: 9987946.0000 - val_mse: 358431294750720.0000\n",
      "Epoch 75/150\n",
      "18/18 [==============================] - 0s 3ms/step - loss: 8272322.5000 - mean_absolute_error: 8272322.5000 - mse: 285184821821440.0000 - val_loss: 9987944.0000 - val_mean_absolute_error: 9987944.0000 - val_mse: 358431261196288.0000\n",
      "Epoch 76/150\n",
      "18/18 [==============================] - 0s 3ms/step - loss: 8272320.5000 - mean_absolute_error: 8272320.5000 - mse: 285184855375872.0000 - val_loss: 9987944.0000 - val_mean_absolute_error: 9987944.0000 - val_mse: 358431261196288.0000\n",
      "Epoch 77/150\n",
      "18/18 [==============================] - 0s 3ms/step - loss: 8272320.5000 - mean_absolute_error: 8272320.5000 - mse: 285184821821440.0000 - val_loss: 9987942.0000 - val_mean_absolute_error: 9987942.0000 - val_mse: 358431261196288.0000\n",
      "Epoch 78/150\n",
      "18/18 [==============================] - 0s 4ms/step - loss: 8272318.5000 - mean_absolute_error: 8272318.5000 - mse: 285184788267008.0000 - val_loss: 9987941.0000 - val_mean_absolute_error: 9987941.0000 - val_mse: 358431227641856.0000\n",
      "Epoch 79/150\n",
      "18/18 [==============================] - 0s 3ms/step - loss: 8272316.5000 - mean_absolute_error: 8272316.5000 - mse: 285184687603712.0000 - val_loss: 9987940.0000 - val_mean_absolute_error: 9987940.0000 - val_mse: 358431227641856.0000\n",
      "Epoch 80/150\n",
      "18/18 [==============================] - 0s 3ms/step - loss: 8272316.5000 - mean_absolute_error: 8272316.5000 - mse: 285184721158144.0000 - val_loss: 9987939.0000 - val_mean_absolute_error: 9987939.0000 - val_mse: 358431194087424.0000\n",
      "Epoch 81/150\n",
      "18/18 [==============================] - 0s 3ms/step - loss: 8272316.0000 - mean_absolute_error: 8272316.0000 - mse: 285184754712576.0000 - val_loss: 9987937.0000 - val_mean_absolute_error: 9987937.0000 - val_mse: 358431194087424.0000\n",
      "Epoch 82/150\n",
      "18/18 [==============================] - 0s 3ms/step - loss: 8272314.0000 - mean_absolute_error: 8272314.0000 - mse: 285184654049280.0000 - val_loss: 9987937.0000 - val_mean_absolute_error: 9987937.0000 - val_mse: 358431160532992.0000\n",
      "Epoch 83/150\n",
      "18/18 [==============================] - 0s 3ms/step - loss: 8272313.0000 - mean_absolute_error: 8272313.0000 - mse: 285184721158144.0000 - val_loss: 9987936.0000 - val_mean_absolute_error: 9987936.0000 - val_mse: 358431160532992.0000\n",
      "Epoch 84/150\n",
      "18/18 [==============================] - 0s 3ms/step - loss: 8272311.0000 - mean_absolute_error: 8272311.0000 - mse: 285184687603712.0000 - val_loss: 9987934.0000 - val_mean_absolute_error: 9987934.0000 - val_mse: 358431126978560.0000\n",
      "Epoch 85/150\n",
      "18/18 [==============================] - 0s 3ms/step - loss: 8272311.0000 - mean_absolute_error: 8272311.0000 - mse: 285184654049280.0000 - val_loss: 9987932.0000 - val_mean_absolute_error: 9987932.0000 - val_mse: 358431093424128.0000\n",
      "Epoch 86/150\n",
      "18/18 [==============================] - 0s 3ms/step - loss: 8272310.0000 - mean_absolute_error: 8272310.0000 - mse: 285184620494848.0000 - val_loss: 9987932.0000 - val_mean_absolute_error: 9987932.0000 - val_mse: 358431093424128.0000\n",
      "Epoch 87/150\n",
      "18/18 [==============================] - 0s 3ms/step - loss: 8272308.5000 - mean_absolute_error: 8272308.5000 - mse: 285184620494848.0000 - val_loss: 9987931.0000 - val_mean_absolute_error: 9987931.0000 - val_mse: 358431059869696.0000\n",
      "Epoch 88/150\n",
      "18/18 [==============================] - 0s 3ms/step - loss: 8272308.5000 - mean_absolute_error: 8272308.5000 - mse: 285184620494848.0000 - val_loss: 9987930.0000 - val_mean_absolute_error: 9987930.0000 - val_mse: 358431026315264.0000\n",
      "Epoch 89/150\n",
      "18/18 [==============================] - 0s 3ms/step - loss: 8272305.5000 - mean_absolute_error: 8272305.5000 - mse: 285184620494848.0000 - val_loss: 9987930.0000 - val_mean_absolute_error: 9987930.0000 - val_mse: 358431026315264.0000\n",
      "Epoch 90/150\n",
      "18/18 [==============================] - 0s 3ms/step - loss: 8272305.5000 - mean_absolute_error: 8272305.5000 - mse: 285184586940416.0000 - val_loss: 9987928.0000 - val_mean_absolute_error: 9987929.0000 - val_mse: 358431026315264.0000\n",
      "Epoch 91/150\n",
      "18/18 [==============================] - 0s 3ms/step - loss: 8272303.5000 - mean_absolute_error: 8272303.5000 - mse: 285184586940416.0000 - val_loss: 9987927.0000 - val_mean_absolute_error: 9987927.0000 - val_mse: 358431026315264.0000\n",
      "Epoch 92/150\n",
      "18/18 [==============================] - 0s 3ms/step - loss: 8272302.0000 - mean_absolute_error: 8272302.0000 - mse: 285184620494848.0000 - val_loss: 9987925.0000 - val_mean_absolute_error: 9987925.0000 - val_mse: 358431026315264.0000\n",
      "Epoch 93/150\n",
      "18/18 [==============================] - 0s 3ms/step - loss: 8272302.5000 - mean_absolute_error: 8272302.5000 - mse: 285184586940416.0000 - val_loss: 9987925.0000 - val_mean_absolute_error: 9987925.0000 - val_mse: 358430992760832.0000\n",
      "Epoch 94/150\n",
      "18/18 [==============================] - 0s 3ms/step - loss: 8272301.0000 - mean_absolute_error: 8272301.0000 - mse: 285184519831552.0000 - val_loss: 9987923.0000 - val_mean_absolute_error: 9987923.0000 - val_mse: 358430925651968.0000\n",
      "Epoch 95/150\n",
      "18/18 [==============================] - 0s 3ms/step - loss: 8272300.0000 - mean_absolute_error: 8272300.0000 - mse: 285184486277120.0000 - val_loss: 9987923.0000 - val_mean_absolute_error: 9987923.0000 - val_mse: 358430925651968.0000\n",
      "Epoch 96/150\n",
      "18/18 [==============================] - 0s 3ms/step - loss: 8272297.0000 - mean_absolute_error: 8272297.0000 - mse: 285184519831552.0000 - val_loss: 9987921.0000 - val_mean_absolute_error: 9987921.0000 - val_mse: 358430925651968.0000\n",
      "Epoch 97/150\n",
      "18/18 [==============================] - 0s 3ms/step - loss: 8272297.0000 - mean_absolute_error: 8272297.0000 - mse: 285184553385984.0000 - val_loss: 9987920.0000 - val_mean_absolute_error: 9987920.0000 - val_mse: 358430892097536.0000\n",
      "Epoch 98/150\n",
      "18/18 [==============================] - 0s 3ms/step - loss: 8272296.0000 - mean_absolute_error: 8272296.0000 - mse: 285184452722688.0000 - val_loss: 9987919.0000 - val_mean_absolute_error: 9987919.0000 - val_mse: 358430858543104.0000\n",
      "Epoch 99/150\n",
      "18/18 [==============================] - 0s 3ms/step - loss: 8272294.5000 - mean_absolute_error: 8272294.5000 - mse: 285184452722688.0000 - val_loss: 9987918.0000 - val_mean_absolute_error: 9987918.0000 - val_mse: 358430858543104.0000\n",
      "Epoch 100/150\n"
     ]
    },
    {
     "name": "stdout",
     "output_type": "stream",
     "text": [
      "18/18 [==============================] - 0s 3ms/step - loss: 8272293.5000 - mean_absolute_error: 8272293.5000 - mse: 285184486277120.0000 - val_loss: 9987918.0000 - val_mean_absolute_error: 9987917.0000 - val_mse: 358430824988672.0000\n",
      "Epoch 101/150\n",
      "18/18 [==============================] - 0s 4ms/step - loss: 8272291.5000 - mean_absolute_error: 8272291.5000 - mse: 285184419168256.0000 - val_loss: 9987915.0000 - val_mean_absolute_error: 9987915.0000 - val_mse: 358430791434240.0000\n",
      "Epoch 102/150\n",
      "18/18 [==============================] - 0s 3ms/step - loss: 8272290.5000 - mean_absolute_error: 8272290.5000 - mse: 285184385613824.0000 - val_loss: 9987914.0000 - val_mean_absolute_error: 9987914.0000 - val_mse: 358430791434240.0000\n",
      "Epoch 103/150\n",
      "18/18 [==============================] - 0s 3ms/step - loss: 8272290.5000 - mean_absolute_error: 8272290.5000 - mse: 285184385613824.0000 - val_loss: 9987913.0000 - val_mean_absolute_error: 9987913.0000 - val_mse: 358430757879808.0000\n",
      "Epoch 104/150\n",
      "18/18 [==============================] - 0s 3ms/step - loss: 8272288.5000 - mean_absolute_error: 8272288.5000 - mse: 285184385613824.0000 - val_loss: 9987912.0000 - val_mean_absolute_error: 9987912.0000 - val_mse: 358430690770944.0000\n",
      "Epoch 105/150\n",
      "18/18 [==============================] - 0s 3ms/step - loss: 8272287.0000 - mean_absolute_error: 8272287.0000 - mse: 285184352059392.0000 - val_loss: 9987911.0000 - val_mean_absolute_error: 9987911.0000 - val_mse: 358430690770944.0000\n",
      "Epoch 106/150\n",
      "18/18 [==============================] - 0s 3ms/step - loss: 8272286.0000 - mean_absolute_error: 8272286.0000 - mse: 285184318504960.0000 - val_loss: 9987909.0000 - val_mean_absolute_error: 9987909.0000 - val_mse: 358430690770944.0000\n",
      "Epoch 107/150\n",
      "18/18 [==============================] - 0s 3ms/step - loss: 8272286.0000 - mean_absolute_error: 8272286.0000 - mse: 285184318504960.0000 - val_loss: 9987908.0000 - val_mean_absolute_error: 9987908.0000 - val_mse: 358430690770944.0000\n",
      "Epoch 108/150\n",
      "18/18 [==============================] - 0s 3ms/step - loss: 8272283.0000 - mean_absolute_error: 8272283.0000 - mse: 285184284950528.0000 - val_loss: 9987907.0000 - val_mean_absolute_error: 9987907.0000 - val_mse: 358430690770944.0000\n",
      "Epoch 109/150\n",
      "18/18 [==============================] - 0s 3ms/step - loss: 8272283.0000 - mean_absolute_error: 8272283.0000 - mse: 285184284950528.0000 - val_loss: 9987905.0000 - val_mean_absolute_error: 9987906.0000 - val_mse: 358430657216512.0000\n",
      "Epoch 110/150\n",
      "18/18 [==============================] - 0s 3ms/step - loss: 8272280.5000 - mean_absolute_error: 8272280.5000 - mse: 285184251396096.0000 - val_loss: 9987905.0000 - val_mean_absolute_error: 9987906.0000 - val_mse: 358430657216512.0000\n",
      "Epoch 111/150\n",
      "18/18 [==============================] - 0s 3ms/step - loss: 8272280.5000 - mean_absolute_error: 8272280.5000 - mse: 285184251396096.0000 - val_loss: 9987904.0000 - val_mean_absolute_error: 9987904.0000 - val_mse: 358430623662080.0000\n",
      "Epoch 112/150\n",
      "18/18 [==============================] - 0s 3ms/step - loss: 8272278.5000 - mean_absolute_error: 8272278.5000 - mse: 285184217841664.0000 - val_loss: 9987903.0000 - val_mean_absolute_error: 9987903.0000 - val_mse: 358430590107648.0000\n",
      "Epoch 113/150\n",
      "18/18 [==============================] - 0s 3ms/step - loss: 8272278.5000 - mean_absolute_error: 8272278.5000 - mse: 285184217841664.0000 - val_loss: 9987901.0000 - val_mean_absolute_error: 9987901.0000 - val_mse: 358430590107648.0000\n",
      "Epoch 114/150\n",
      "18/18 [==============================] - 0s 3ms/step - loss: 8272276.5000 - mean_absolute_error: 8272276.5000 - mse: 285184184287232.0000 - val_loss: 9987900.0000 - val_mean_absolute_error: 9987900.0000 - val_mse: 358430590107648.0000\n",
      "Epoch 115/150\n",
      "18/18 [==============================] - 0s 3ms/step - loss: 8272275.5000 - mean_absolute_error: 8272275.5000 - mse: 285184184287232.0000 - val_loss: 9987899.0000 - val_mean_absolute_error: 9987899.0000 - val_mse: 358430522998784.0000\n",
      "Epoch 116/150\n",
      "18/18 [==============================] - 0s 3ms/step - loss: 8272274.0000 - mean_absolute_error: 8272274.0000 - mse: 285184150732800.0000 - val_loss: 9987897.0000 - val_mean_absolute_error: 9987897.0000 - val_mse: 358430522998784.0000\n",
      "Epoch 117/150\n",
      "18/18 [==============================] - 0s 3ms/step - loss: 8272272.0000 - mean_absolute_error: 8272272.0000 - mse: 285184184287232.0000 - val_loss: 9987897.0000 - val_mean_absolute_error: 9987897.0000 - val_mse: 358430522998784.0000\n",
      "Epoch 118/150\n",
      "18/18 [==============================] - 0s 4ms/step - loss: 8272272.0000 - mean_absolute_error: 8272272.0000 - mse: 285184150732800.0000 - val_loss: 9987895.0000 - val_mean_absolute_error: 9987895.0000 - val_mse: 358430522998784.0000\n",
      "Epoch 119/150\n",
      "18/18 [==============================] - 0s 3ms/step - loss: 8272270.0000 - mean_absolute_error: 8272270.0000 - mse: 285184150732800.0000 - val_loss: 9987895.0000 - val_mean_absolute_error: 9987895.0000 - val_mse: 358430455889920.0000\n",
      "Epoch 120/150\n",
      "18/18 [==============================] - 0s 4ms/step - loss: 8272269.0000 - mean_absolute_error: 8272269.0000 - mse: 285184083623936.0000 - val_loss: 9987892.0000 - val_mean_absolute_error: 9987892.0000 - val_mse: 358430422335488.0000\n",
      "Epoch 121/150\n",
      "18/18 [==============================] - 0s 3ms/step - loss: 8272267.0000 - mean_absolute_error: 8272267.0000 - mse: 285184117178368.0000 - val_loss: 9987891.0000 - val_mean_absolute_error: 9987891.0000 - val_mse: 358430388781056.0000\n",
      "Epoch 122/150\n",
      "18/18 [==============================] - 0s 4ms/step - loss: 8272266.5000 - mean_absolute_error: 8272266.5000 - mse: 285184083623936.0000 - val_loss: 9987890.0000 - val_mean_absolute_error: 9987890.0000 - val_mse: 358430355226624.0000\n",
      "Epoch 123/150\n",
      "18/18 [==============================] - 0s 3ms/step - loss: 8272264.5000 - mean_absolute_error: 8272264.5000 - mse: 285184050069504.0000 - val_loss: 9987889.0000 - val_mean_absolute_error: 9987889.0000 - val_mse: 358430355226624.0000\n",
      "Epoch 124/150\n",
      "18/18 [==============================] - 0s 3ms/step - loss: 8272263.5000 - mean_absolute_error: 8272263.5000 - mse: 285184050069504.0000 - val_loss: 9987888.0000 - val_mean_absolute_error: 9987888.0000 - val_mse: 358430355226624.0000\n",
      "Epoch 125/150\n",
      "18/18 [==============================] - 0s 3ms/step - loss: 8272262.5000 - mean_absolute_error: 8272262.5000 - mse: 285183982960640.0000 - val_loss: 9987887.0000 - val_mean_absolute_error: 9987887.0000 - val_mse: 358430321672192.0000\n",
      "Epoch 126/150\n",
      "18/18 [==============================] - 0s 3ms/step - loss: 8272260.5000 - mean_absolute_error: 8272260.5000 - mse: 285184050069504.0000 - val_loss: 9987885.0000 - val_mean_absolute_error: 9987885.0000 - val_mse: 358430321672192.0000\n",
      "Epoch 127/150\n",
      "18/18 [==============================] - 0s 3ms/step - loss: 8272259.5000 - mean_absolute_error: 8272259.5000 - mse: 285183982960640.0000 - val_loss: 9987885.0000 - val_mean_absolute_error: 9987885.0000 - val_mse: 358430254563328.0000\n",
      "Epoch 128/150\n",
      "18/18 [==============================] - 0s 3ms/step - loss: 8272259.5000 - mean_absolute_error: 8272259.5000 - mse: 285183982960640.0000 - val_loss: 9987883.0000 - val_mean_absolute_error: 9987883.0000 - val_mse: 358430254563328.0000\n",
      "Epoch 129/150\n",
      "18/18 [==============================] - 0s 3ms/step - loss: 8272257.0000 - mean_absolute_error: 8272257.0000 - mse: 285183949406208.0000 - val_loss: 9987881.0000 - val_mean_absolute_error: 9987881.0000 - val_mse: 358430221008896.0000\n",
      "Epoch 130/150\n",
      "18/18 [==============================] - 0s 3ms/step - loss: 8272255.0000 - mean_absolute_error: 8272255.0000 - mse: 285183949406208.0000 - val_loss: 9987881.0000 - val_mean_absolute_error: 9987881.0000 - val_mse: 358430221008896.0000\n",
      "Epoch 131/150\n",
      "18/18 [==============================] - 0s 3ms/step - loss: 8272254.0000 - mean_absolute_error: 8272254.0000 - mse: 285183915851776.0000 - val_loss: 9987880.0000 - val_mean_absolute_error: 9987880.0000 - val_mse: 358430221008896.0000\n",
      "Epoch 132/150\n",
      "18/18 [==============================] - 0s 3ms/step - loss: 8272254.0000 - mean_absolute_error: 8272254.0000 - mse: 285183882297344.0000 - val_loss: 9987878.0000 - val_mean_absolute_error: 9987878.0000 - val_mse: 358430221008896.0000\n"
     ]
    },
    {
     "name": "stdout",
     "output_type": "stream",
     "text": [
      "Epoch 133/150\n",
      "18/18 [==============================] - 0s 4ms/step - loss: 8272251.5000 - mean_absolute_error: 8272251.5000 - mse: 285183915851776.0000 - val_loss: 9987877.0000 - val_mean_absolute_error: 9987877.0000 - val_mse: 358430120345600.0000\n",
      "Epoch 134/150\n",
      "18/18 [==============================] - 0s 3ms/step - loss: 8272252.5000 - mean_absolute_error: 8272252.5000 - mse: 285183848742912.0000 - val_loss: 9987875.0000 - val_mean_absolute_error: 9987875.0000 - val_mse: 358430120345600.0000\n",
      "Epoch 135/150\n",
      "18/18 [==============================] - 0s 3ms/step - loss: 8272249.5000 - mean_absolute_error: 8272249.5000 - mse: 285183848742912.0000 - val_loss: 9987874.0000 - val_mean_absolute_error: 9987874.0000 - val_mse: 358430120345600.0000\n",
      "Epoch 136/150\n",
      "18/18 [==============================] - 0s 3ms/step - loss: 8272247.5000 - mean_absolute_error: 8272247.5000 - mse: 285183848742912.0000 - val_loss: 9987873.0000 - val_mean_absolute_error: 9987873.0000 - val_mse: 358430120345600.0000\n",
      "Epoch 137/150\n",
      "18/18 [==============================] - 0s 3ms/step - loss: 8272247.5000 - mean_absolute_error: 8272247.5000 - mse: 285183815188480.0000 - val_loss: 9987871.0000 - val_mean_absolute_error: 9987871.0000 - val_mse: 358430053236736.0000\n",
      "Epoch 138/150\n",
      "18/18 [==============================] - 0s 3ms/step - loss: 8272245.5000 - mean_absolute_error: 8272245.5000 - mse: 285183781634048.0000 - val_loss: 9987870.0000 - val_mean_absolute_error: 9987870.0000 - val_mse: 358430053236736.0000\n",
      "Epoch 139/150\n",
      "18/18 [==============================] - 0s 3ms/step - loss: 8272245.0000 - mean_absolute_error: 8272245.0000 - mse: 285183748079616.0000 - val_loss: 9987869.0000 - val_mean_absolute_error: 9987869.0000 - val_mse: 358430053236736.0000\n",
      "Epoch 140/150\n",
      "18/18 [==============================] - 0s 3ms/step - loss: 8272243.0000 - mean_absolute_error: 8272243.0000 - mse: 285183714525184.0000 - val_loss: 9987869.0000 - val_mean_absolute_error: 9987869.0000 - val_mse: 358430019682304.0000\n",
      "Epoch 141/150\n",
      "18/18 [==============================] - 0s 3ms/step - loss: 8272242.0000 - mean_absolute_error: 8272242.0000 - mse: 285183714525184.0000 - val_loss: 9987866.0000 - val_mean_absolute_error: 9987867.0000 - val_mse: 358429986127872.0000\n",
      "Epoch 142/150\n",
      "18/18 [==============================] - 0s 4ms/step - loss: 8272240.0000 - mean_absolute_error: 8272240.0000 - mse: 285183714525184.0000 - val_loss: 9987864.0000 - val_mean_absolute_error: 9987864.0000 - val_mse: 358429986127872.0000\n",
      "Epoch 143/150\n",
      "18/18 [==============================] - 0s 3ms/step - loss: 8272238.0000 - mean_absolute_error: 8272238.0000 - mse: 285183680970752.0000 - val_loss: 9987864.0000 - val_mean_absolute_error: 9987864.0000 - val_mse: 358429986127872.0000\n",
      "Epoch 144/150\n",
      "18/18 [==============================] - 0s 3ms/step - loss: 8272238.0000 - mean_absolute_error: 8272238.0000 - mse: 285183680970752.0000 - val_loss: 9987862.0000 - val_mean_absolute_error: 9987862.0000 - val_mse: 358429919019008.0000\n",
      "Epoch 145/150\n",
      "18/18 [==============================] - 0s 3ms/step - loss: 8272236.5000 - mean_absolute_error: 8272236.5000 - mse: 285183680970752.0000 - val_loss: 9987861.0000 - val_mean_absolute_error: 9987861.0000 - val_mse: 358429885464576.0000\n",
      "Epoch 146/150\n",
      "18/18 [==============================] - 0s 3ms/step - loss: 8272234.5000 - mean_absolute_error: 8272234.5000 - mse: 285183680970752.0000 - val_loss: 9987860.0000 - val_mean_absolute_error: 9987860.0000 - val_mse: 358429885464576.0000\n",
      "Epoch 147/150\n",
      "18/18 [==============================] - 0s 3ms/step - loss: 8272233.5000 - mean_absolute_error: 8272233.5000 - mse: 285183680970752.0000 - val_loss: 9987858.0000 - val_mean_absolute_error: 9987858.0000 - val_mse: 358429885464576.0000\n",
      "Epoch 148/150\n",
      "18/18 [==============================] - 0s 3ms/step - loss: 8272231.5000 - mean_absolute_error: 8272231.5000 - mse: 285183647416320.0000 - val_loss: 9987857.0000 - val_mean_absolute_error: 9987857.0000 - val_mse: 358429851910144.0000\n",
      "Epoch 149/150\n",
      "18/18 [==============================] - 0s 3ms/step - loss: 8272231.0000 - mean_absolute_error: 8272231.0000 - mse: 285183613861888.0000 - val_loss: 9987856.0000 - val_mean_absolute_error: 9987856.0000 - val_mse: 358429851910144.0000\n",
      "Epoch 150/150\n",
      "18/18 [==============================] - 0s 3ms/step - loss: 8272229.0000 - mean_absolute_error: 8272229.0000 - mse: 285183546753024.0000 - val_loss: 9987854.0000 - val_mean_absolute_error: 9987854.0000 - val_mse: 358429818355712.0000\n"
     ]
    }
   ],
   "source": [
    "history = model.fit(X_train, y_train, validation_data=(X_test,y_test), epochs=150, batch_size=32)\n"
   ]
  },
  {
   "cell_type": "code",
   "execution_count": 40,
   "metadata": {
    "scrolled": true
   },
   "outputs": [
    {
     "data": {
      "image/png": "[encoded data removed]",
      "text/plain": [
       "<Figure size 432x288 with 1 Axes>"
      ]
     },
     "metadata": {
      "needs_background": "light"
     },
     "output_type": "display_data"
    },
    {
     "data": {
      "image/png": "[encoded data removed]",
      "text/plain": [
       "<Figure size 432x288 with 1 Axes>"
      ]
     },
     "metadata": {
      "needs_background": "light"
     },
     "output_type": "display_data"
    }
   ],
   "source": [
    "# summarize history for accuracy\n",
    "plt.plot(history.history['mean_absolute_error'])\n",
    "plt.plot(history.history['val_mean_absolute_error'])\n",
    "plt.title('model accuracy')\n",
    "plt.ylabel('accuracy')\n",
    "plt.xlabel('epoch')\n",
    "plt.legend(['train', 'test'], loc='upper left')\n",
    "plt.show()\n",
    "# summarize history for loss\n",
    "plt.plot(history.history['loss'])\n",
    "plt.plot(history.history['val_loss'])\n",
    "plt.title('model loss')\n",
    "plt.ylabel('loss')\n",
    "plt.xlabel('epoch')\n",
    "plt.legend(['train', 'test'], loc='upper left')\n",
    "plt.show()\n"
   ]
  },
  {
   "cell_type": "code",
   "execution_count": 43,
   "metadata": {},
   "outputs": [
    {
     "name": "stdout",
     "output_type": "stream",
     "text": [
      "18/18 [==============================] - 0s 1ms/step - loss: 8272228.0000 - mean_absolute_error: 8272228.0000 - mse: 285183580307456.0000\n"
     ]
    },
    {
     "data": {
      "text/plain": [
       "8272228.0"
      ]
     },
     "execution_count": 43,
     "metadata": {},
     "output_type": "execute_result"
    }
   ],
   "source": [
    "# evaluate the keras model\n",
    "model.evaluate(X_train, y_train)[1]"
   ]
  },
  {
   "cell_type": "code",
   "execution_count": 46,
   "metadata": {},
   "outputs": [],
   "source": [
    "prediction = model.predict(X_test)\n"
   ]
  },
  {
   "cell_type": "code",
   "execution_count": 44,
   "metadata": {},
   "outputs": [
    {
     "name": "stdout",
     "output_type": "stream",
     "text": [
      "MAE: 9988032.027911775\n",
      "MSE: 358432509451685.0\n",
      "RMSE: 18932313.895868223\n",
      "VarScore: 5.247562071541978e-07\n"
     ]
    },
    {
     "data": {
      "text/plain": [
       "[<matplotlib.lines.Line2D at 0x211f478ad00>]"
      ]
     },
     "execution_count": 44,
     "metadata": {},
     "output_type": "execute_result"
    },
    {
     "data": {
      "image/png": "[encoded data removed]",
      "text/plain": [
       "<Figure size 720x360 with 1 Axes>"
      ]
     },
     "metadata": {
      "needs_background": "light"
     },
     "output_type": "display_data"
    }
   ],
   "source": [
    "prediction = model.predict(X_test)\n",
    "from sklearn import metrics\n",
    "print('MAE:', metrics.mean_absolute_error(y_test, y_pred))  \n",
    "print('MSE:', metrics.mean_squared_error(y_test, y_pred))  \n",
    "print('RMSE:', np.sqrt(metrics.mean_squared_error(y_test, y_pred)))\n",
    "print('VarScore:',metrics.explained_variance_score(y_test,y_pred))\n",
    "# Visualizing Our predictions\n",
    "fig = plt.figure(figsize=(10,5))\n",
    "plt.scatter(y_test,y_pred)\n",
    "# Perfect predictions\n",
    "plt.plot(y_test,y_test,'r')"
   ]
  },
  {
   "cell_type": "code",
   "execution_count": 47,
   "metadata": {},
   "outputs": [],
   "source": [
    "from keras.models import load_model\n",
    "\n",
    "model.save('my_model.h5')\n",
    "del model\n",
    "\n",
    "# returns a compiled model identical to the previous one\n",
    "model = load_model('my_model.h5')\n"
   ]
  },
  {
   "cell_type": "code",
   "execution_count": 48,
   "metadata": {},
   "outputs": [
    {
     "data": {
      "text/plain": [
       "<bound method Model.to_json of <tensorflow.python.keras.engine.sequential.Sequential object at 0x00000211ED8730D0>>"
      ]
     },
     "execution_count": 48,
     "metadata": {},
     "output_type": "execute_result"
    }
   ],
   "source": [
    "model.to_json"
   ]
  },
  {
   "cell_type": "code",
   "execution_count": 60,
   "metadata": {},
   "outputs": [
    {
     "ename": "ModuleNotFoundError",
     "evalue": "No module named 'tensorflowjs'",
     "output_type": "error",
     "traceback": [
      "\u001b[1;31m---------------------------------------------------------------------------\u001b[0m",
      "\u001b[1;31mModuleNotFoundError\u001b[0m                       Traceback (most recent call last)",
      "\u001b[1;32m<ipython-input-60-e91b9d5db072>\u001b[0m in \u001b[0;36m<module>\u001b[1;34m\u001b[0m\n\u001b[1;32m----> 1\u001b[1;33m \u001b[1;32mimport\u001b[0m \u001b[0mtensorflowjs\u001b[0m \u001b[1;32mas\u001b[0m \u001b[0mtfjs\u001b[0m\u001b[1;33m\u001b[0m\u001b[1;33m\u001b[0m\u001b[0m\n\u001b[0m",
      "\u001b[1;31mModuleNotFoundError\u001b[0m: No module named 'tensorflowjs'"
     ]
    }
   ],
   "source": [
    "import tensorflowjs as tfjs"
   ]
  },
  {
   "cell_type": "code",
   "execution_count": 58,
   "metadata": {
    "scrolled": true
   },
   "outputs": [
    {
     "ename": "AttributeError",
     "evalue": "module 'tensorflow' has no attribute 'converters'",
     "output_type": "error",
     "traceback": [
      "\u001b[1;31m---------------------------------------------------------------------------\u001b[0m",
      "\u001b[1;31mAttributeError\u001b[0m                            Traceback (most recent call last)",
      "\u001b[1;32m<ipython-input-58-5f5e79a989dc>\u001b[0m in \u001b[0;36m<module>\u001b[1;34m\u001b[0m\n\u001b[1;32m----> 1\u001b[1;33m \u001b[0mtfjs\u001b[0m\u001b[1;33m.\u001b[0m\u001b[0mconverters\u001b[0m\u001b[1;33m.\u001b[0m\u001b[0msave_keras_model\u001b[0m\u001b[1;33m(\u001b[0m\u001b[0mmodel\u001b[0m\u001b[1;33m)\u001b[0m\u001b[1;33m\u001b[0m\u001b[1;33m\u001b[0m\u001b[0m\n\u001b[0m",
      "\u001b[1;31mAttributeError\u001b[0m: module 'tensorflow' has no attribute 'converters'"
     ]
    }
   ],
   "source": [
    "tfjs.converters.save_keras_model(model)"
   ]
  },
  {
   "cell_type": "code",
   "execution_count": 62,
   "metadata": {},
   "outputs": [],
   "source": [
    "# serialize model to JSON\n",
    "model_json = model.to_json()\n",
    "with open(\"model.json\", 'w') as json_file:\n",
    "    json_file.write(model_json)\n"
   ]
  },
  {
   "cell_type": "code",
   "execution_count": 63,
   "metadata": {},
   "outputs": [
    {
     "name": "stdout",
     "output_type": "stream",
     "text": [
      "Saved model to disk\n"
     ]
    }
   ],
   "source": [
    "# Saving weights of the model to HDF5\n",
    "model.save_weights('model.h5')\n",
    "print(\"Saved model to disk\")"
   ]
  },
  {
   "cell_type": "code",
   "execution_count": 71,
   "metadata": {},
   "outputs": [
    {
     "name": "stdout",
     "output_type": "stream",
     "text": [
      "Load model from disk\n"
     ]
    }
   ],
   "source": [
    "# load json and create model\n",
    "json_file = open('model.json', 'r')\n",
    "load_model_json = json_file.read()\n",
    "json_file.close()\n",
    "load_model = model_from_json(load_model_json)\n",
    "# load weights into new model\n",
    "load_model.load_weights(\"model.h5\")\n",
    "print(\"Load model from disk\")\n"
   ]
  },
  {
   "cell_type": "code",
   "execution_count": 72,
   "metadata": {},
   "outputs": [
    {
     "name": "stdout",
     "output_type": "stream",
     "text": [
      "accuracy: 0.00%\n"
     ]
    }
   ],
   "source": [
    "# evaluate loaded model on test data\n",
    "load_model.compile(loss='binary_crossentropy', optimizer='rmsprop', metrics=['accuracy'])\n",
    "score = load_model.evaluate(X_test, y_test, verbose=0)\n",
    "print(\"%s: %.2f%%\" % (load_model.metrics_names[1], score[1]*100))"
   ]
  },
  {
   "cell_type": "code",
   "execution_count": 73,
   "metadata": {},
   "outputs": [],
   "source": [
    "import json"
   ]
  },
  {
   "cell_type": "code",
   "execution_count": 74,
   "metadata": {},
   "outputs": [],
   "source": [
    "# read file\n",
    "with open('model.json', 'r') as myfile:\n",
    "    data=myfile.read()\n"
   ]
  },
  {
   "cell_type": "code",
   "execution_count": 75,
   "metadata": {},
   "outputs": [],
   "source": [
    "# parse file\n",
    "obj = json.loads(data)"
   ]
  },
  {
   "cell_type": "code",
   "execution_count": 76,
   "metadata": {},
   "outputs": [
    {
     "name": "stdout",
     "output_type": "stream",
     "text": [
      "{'class_name': 'Sequential', 'config': {'name': 'sequential_3', 'layers': [{'class_name': 'InputLayer', 'config': {'batch_input_shape': [None, 3], 'dtype': 'float32', 'sparse': False, 'ragged': False, 'name': 'dense_6_input'}}, {'class_name': 'Dense', 'config': {'name': 'dense_6', 'trainable': True, 'batch_input_shape': [None, 3], 'dtype': 'float32', 'units': 3, 'activation': 'relu', 'use_bias': True, 'kernel_initializer': {'class_name': 'RandomNormal', 'config': {'mean': 0.0, 'stddev': 0.05, 'seed': None}}, 'bias_initializer': {'class_name': 'Zeros', 'config': {}}, 'kernel_regularizer': None, 'bias_regularizer': None, 'activity_regularizer': None, 'kernel_constraint': None, 'bias_constraint': None}}, {'class_name': 'Dense', 'config': {'name': 'dense_7', 'trainable': True, 'dtype': 'float32', 'units': 1, 'activation': 'linear', 'use_bias': True, 'kernel_initializer': {'class_name': 'RandomNormal', 'config': {'mean': 0.0, 'stddev': 0.05, 'seed': None}}, 'bias_initializer': {'class_name': 'Zeros', 'config': {}}, 'kernel_regularizer': None, 'bias_regularizer': None, 'activity_regularizer': None, 'kernel_constraint': None, 'bias_constraint': None}}]}, 'keras_version': '2.4.0', 'backend': 'tensorflow'}\n"
     ]
    }
   ],
   "source": [
    "print(obj)"
   ]
  },
  {
   "cell_type": "code",
   "execution_count": null,
   "metadata": {},
   "outputs": [],
   "source": []
  }
 ],
 "metadata": {
  "kernelspec": {
   "display_name": "Python 3",
   "language": "python",
   "name": "python3"
  },
  "language_info": {
   "codemirror_mode": {
    "name": "ipython",
    "version": 3
   },
   "file_extension": ".py",
   "mimetype": "text/x-python",
   "name": "python",
   "nbconvert_exporter": "python",
   "pygments_lexer": "ipython3",
   "version": "3.8.5"
  }
 },
 "nbformat": 4,
 "nbformat_minor": 4
}
